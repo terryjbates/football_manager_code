{
 "cells": [
  {
   "cell_type": "code",
   "execution_count": 33,
   "id": "04786498-0fd0-4e3a-9399-d74ce3097e8f",
   "metadata": {
    "tags": []
   },
   "outputs": [],
   "source": [
    "import pandas as pd\n",
    "import numpy as np\n",
    "import sys\n",
    "import os\n",
    "import pyautogui\n",
    "from bs4 import BeautifulSoup\n",
    "from IPython.display import display, HTML\n",
    "from datetime import datetime\n",
    "import re\n",
    "import time\n",
    "import datetime\n",
    "import cv2\n",
    "\n",
    "from praisebot import move_and_click, group_locations\n",
    "import praisebot\n",
    "\n",
    "# import footballmanager\n",
    "from footballmanager import parse_html_table, open_dir, convert_to_numeric\n",
    "from footballmanager import imperial_to_decimal_height, weight_to_decimal_weight, convert_percent_string_to_decimal\n",
    "from footballmanager import determine_goal_differential, determine_expires_date\n",
    "\n",
    "\n",
    "import importlib"
   ]
  },
  {
   "cell_type": "code",
   "execution_count": 3,
   "id": "8efcb25c-8a8b-4236-a3f2-adb699e0ac1d",
   "metadata": {
    "tags": []
   },
   "outputs": [
    {
     "data": {
      "text/plain": [
       "<module 'praisebot' from 'C:\\\\Users\\\\lover\\\\OneDrive\\\\Documents\\\\GitHub\\\\football_manager_code\\\\AI\\\\praisebot.py'>"
      ]
     },
     "execution_count": 3,
     "metadata": {},
     "output_type": "execute_result"
    }
   ],
   "source": [
    "importlib.reload(praisebot)"
   ]
  },
  {
   "cell_type": "code",
   "execution_count": 23,
   "id": "8a68504d-5f6a-458c-ae77-ca42f5e59653",
   "metadata": {
    "tags": []
   },
   "outputs": [],
   "source": [
    "VIEW_DROPDOWN = (378, 259)\n",
    "CUSTOM_MENU = (378, 319)\n",
    "LEFT_PLAYER_CHECK = (137, 564)\n",
    "TEAM_NAME = 'Atlético_Junior'"
   ]
  },
  {
   "cell_type": "code",
   "execution_count": 5,
   "id": "ffa06ac3-7029-46e1-a317-5958f7d5c97a",
   "metadata": {
    "tags": []
   },
   "outputs": [
    {
     "name": "stdout",
     "output_type": "stream",
     "text": [
      "Football Manager 2024 window is now active.\n",
      "Print squad view and breaking\n"
     ]
    }
   ],
   "source": [
    "praisebot.navigate_to_fm_window()\n",
    "pyautogui.hotkey('F3')\n",
    "#time.sleep(2)\n",
    "move_and_click(VIEW_DROPDOWN, 2)\n",
    "move_and_click(CUSTOM_MENU, 2)\n",
    "\n",
    "# Define the region of the screen to capture (x, y, width, height)\n",
    "views_region = (692, 128, 828, 2012)\n",
    "\n",
    "\n",
    "# Take a screenshot of the expanded menu\n",
    "screenshot = pyautogui.screenshot(region=views_region)\n",
    "screenshot = np.array(screenshot)\n",
    "screenshot = cv2.cvtColor(screenshot, cv2.COLOR_RGB2BGR)\n",
    "\n",
    "# Load the reference image and ensure it is in the correct format\n",
    "reference_image_path = 'squad_attrib_selection.png'\n",
    "reference_image = cv2.imread(reference_image_path, cv2.IMREAD_COLOR)\n",
    "\n",
    "if reference_image is None:\n",
    "    raise ValueError(\"Reference image not found or unable to load.\")\n",
    "\n",
    "# Find the reference image within the screenshot\n",
    "result = cv2.matchTemplate(screenshot, reference_image, cv2.TM_CCOEFF_NORMED)\n",
    "\n",
    "# Define a threshold for matching\n",
    "threshold = 0.80\n",
    "locations = np.where(result >= threshold)\n",
    "locations = list(zip(*locations[::-1]))\n",
    "\n",
    "# Group the locations\n",
    "grouped_locations = group_locations(locations)\n",
    "\n",
    "# Process each matching location\n",
    "for loc in grouped_locations:\n",
    "    center_x = loc[0] + reference_image.shape[1] // 2\n",
    "    center_y = loc[1] + reference_image.shape[0] // 2\n",
    "    screen_x = views_region[0] + center_x\n",
    "    screen_y = views_region[1] + center_y\n",
    "\n",
    "    pyautogui.click(screen_x, screen_y)\n",
    "    time.sleep(0.5)  # Retain this sleep for precision timing\n",
    "    print(\"Print squad view and breaking\")\n",
    "    break # Only click once for multiple views in the region\n",
    "\n",
    "    time.sleep(0.2)  # Add a small delay between actions\n",
    "\n"
   ]
  },
  {
   "cell_type": "code",
   "execution_count": 7,
   "id": "d75df870-72f0-46f2-90ee-581f7f090af7",
   "metadata": {
    "tags": []
   },
   "outputs": [],
   "source": [
    "def click_on_located_image(region, image_name):\n",
    "   # Define the region of the screen to capture (x, y, width, height)\n",
    "   # views_region = (692, 128, 828, 2012)\n",
    "\n",
    "    # Take a screenshot of the expanded menu\n",
    "    screenshot = pyautogui.screenshot(region=region)\n",
    "    screenshot = np.array(screenshot)\n",
    "    screenshot = cv2.cvtColor(screenshot, cv2.COLOR_RGB2BGR)\n",
    "\n",
    "    print(\"Screenshot taken\")\n",
    "          \n",
    "    # Load the reference image and ensure it is in the correct format\n",
    "    reference_image_path = image_name\n",
    "    reference_image = cv2.imread(reference_image_path, cv2.IMREAD_COLOR)\n",
    "\n",
    "    print(\"Reference image loaded\")\n",
    "          \n",
    "    if reference_image is None:\n",
    "        raise ValueError(\"Reference image not found or unable to load.\")\n",
    "\n",
    "        \n",
    "    \n",
    "    # Find the reference image within the screenshot\n",
    "    result = cv2.matchTemplate(screenshot, reference_image, cv2.TM_CCOEFF_NORMED)\n",
    "\n",
    "    print(\"Reference image found\")\n",
    "    \n",
    "    # Define a threshold for matching\n",
    "    threshold = 0.80\n",
    "    locations = np.where(result >= threshold)\n",
    "    locations = list(zip(*locations[::-1]))\n",
    "\n",
    "    print (f\"Length of locations {len(locations)}\")\n",
    "    \n",
    "    # Group the locations\n",
    "    grouped_locations = group_locations(locations)\n",
    "\n",
    "    print(f\"Number of grouped locations {len(grouped_locations)}\")\n",
    "    \n",
    "    # Process each matching location\n",
    "    for loc in grouped_locations:\n",
    "        center_x = loc[0] + reference_image.shape[1] // 2\n",
    "        center_y = loc[1] + reference_image.shape[0] // 2\n",
    "        screen_x = region[0] + center_x\n",
    "        screen_y = region[1] + center_y\n",
    "\n",
    "        pyautogui.click(screen_x, screen_y)\n",
    "        print(f\"Clicked on {reference_image}\")\n",
    "        time.sleep(0.5)  # Retain this sleep for precision timing\n",
    "        print(f\"Image {image_name} located and clicked on\")\n",
    "        break # Only click once for multiple views in the region\n",
    "\n",
    "        time.sleep(0.2)  # Add a small delay between actions"
   ]
  },
  {
   "cell_type": "code",
   "execution_count": 24,
   "id": "bf080a7f-5b6f-4694-bd72-fce23786a53c",
   "metadata": {
    "tags": []
   },
   "outputs": [],
   "source": [
    "def gen_timestamp_filename():\n",
    "    now = datetime.datetime.now()\n",
    "    return now.strftime(\"%Y-%m-%d_%H_%M_%S_\") + TEAM_NAME"
   ]
  },
  {
   "cell_type": "code",
   "execution_count": 25,
   "id": "883e422a-2f11-46d9-9e9e-6069b846ad71",
   "metadata": {
    "tags": []
   },
   "outputs": [
    {
     "data": {
      "text/plain": [
       "'2025-06-02_20_51_16_Atlético_Junior'"
      ]
     },
     "execution_count": 25,
     "metadata": {},
     "output_type": "execute_result"
    }
   ],
   "source": [
    "gen_timestamp_filename()"
   ]
  },
  {
   "cell_type": "code",
   "execution_count": 29,
   "id": "ba186b4c-ad5c-4d75-894e-1c67b2101677",
   "metadata": {
    "tags": []
   },
   "outputs": [],
   "source": [
    "def open_squad_view():\n",
    "    move_and_click(VIEW_DROPDOWN, 2)\n",
    "    move_and_click(CUSTOM_MENU, 2)\n",
    "\n",
    "    # Define the region of the screen to capture (x, y, width, height)\n",
    "    views_region = (692, 128, 828, 2012)\n",
    "    squad_attrib_image = 'images//squad_attrib_selection.png'\n",
    "    click_on_located_image(views_region, squad_attrib_image)\n",
    "\n",
    "        \n",
    "def export_squad_data():\n",
    "    # Move to top left player check\n",
    "    move_and_click(LEFT_PLAYER_CHECK, 2)\n",
    "\n",
    "    # Select all players\n",
    "    pyautogui.hotkey('ctrl', 'a')\n",
    "    time.sleep(2)\n",
    "    \n",
    "    # Print dialogue\n",
    "    pyautogui.hotkey('ctrl', 'p')\n",
    "    time.sleep(5)\n",
    "    # Locate and click the OK button\n",
    "    \n",
    "    # Define the region of the screen to capture (x, y, width, height)\n",
    "    print_dialogue_region = (0, 0, 3839,2159)\n",
    "    ok_button_path = 'images//printer_ok_button.png'\n",
    "    print(f\"Attempting to click {ok_button_path}\")\n",
    "    click_on_located_image(print_dialogue_region, ok_button_path)\n",
    "    print(f\"{ok_button_path} clicked\")\n",
    "    \n",
    "    # We need to find the circular \"X\" button, then navigate some pixels to the\n",
    "    # 2322, 715\n",
    "    output_file_region = (2240, 640, 82, 75)\n",
    "    round_x_circle_path = 'images//round_x_circle.png'\n",
    "    print(f\"Attempting to click {round_x_circle_path}\")\n",
    "    click_on_located_image(output_file_region, round_x_circle_path)\n",
    "    print(f\"{round_x_circle_path} clicked\")\n",
    "    \n",
    "    # Move cursor some pixels to the left\n",
    "    pyautogui.move(-85, 0)\n",
    "    # Click in form box \n",
    "    pyautogui.click()\n",
    "    # Name the file by timestamp\n",
    "    export_data_filename = gen_timestamp_filename()\n",
    "    # Enter file name\n",
    "    pyautogui.write(export_data_filename)\n",
    "    time.sleep(2)\n",
    "    pyautogui.press('enter')\n",
    "    time.sleep(1)"
   ]
  },
  {
   "cell_type": "code",
   "execution_count": 32,
   "id": "af5c34d7-5145-4459-99c2-631271619282",
   "metadata": {
    "tags": []
   },
   "outputs": [
    {
     "name": "stdout",
     "output_type": "stream",
     "text": [
      "Failed to activate Football Manager 2024 window: There are 2 elements that match the criteria {'title_re': 'Football Manager 2024', 'backend': 'win32', 'visible_only': False}\n"
     ]
    },
    {
     "ename": "NameError",
     "evalue": "name 'sys' is not defined",
     "output_type": "error",
     "traceback": [
      "\u001b[1;31m---------------------------------------------------------------------------\u001b[0m",
      "\u001b[1;31mElementAmbiguousError\u001b[0m                     Traceback (most recent call last)",
      "File \u001b[1;32m~\\OneDrive\\Documents\\GitHub\\football_manager_code\\AI\\praisebot.py:148\u001b[0m, in \u001b[0;36mnavigate_to_fm_window\u001b[1;34m(window_title)\u001b[0m\n\u001b[0;32m    147\u001b[0m \u001b[38;5;28;01mtry\u001b[39;00m:\n\u001b[1;32m--> 148\u001b[0m     app \u001b[38;5;241m=\u001b[39m \u001b[43mApplication\u001b[49m\u001b[43m(\u001b[49m\u001b[43m)\u001b[49m\u001b[38;5;241;43m.\u001b[39;49m\u001b[43mconnect\u001b[49m\u001b[43m(\u001b[49m\u001b[43mtitle_re\u001b[49m\u001b[38;5;241;43m=\u001b[39;49m\u001b[43mwindow_title\u001b[49m\u001b[43m)\u001b[49m\n\u001b[0;32m    149\u001b[0m     app\u001b[38;5;241m.\u001b[39mtop_window()\u001b[38;5;241m.\u001b[39mset_focus()\n",
      "File \u001b[1;32m~\\AppData\\Roaming\\Python\\Python39\\site-packages\\pywinauto\\application.py:997\u001b[0m, in \u001b[0;36mApplication.connect\u001b[1;34m(self, **kwargs)\u001b[0m\n\u001b[0;32m    996\u001b[0m \u001b[38;5;28;01melse\u001b[39;00m:\n\u001b[1;32m--> 997\u001b[0m     \u001b[38;5;28mself\u001b[39m\u001b[38;5;241m.\u001b[39mprocess \u001b[38;5;241m=\u001b[39m findwindows\u001b[38;5;241m.\u001b[39mfind_element(\u001b[38;5;241m*\u001b[39m\u001b[38;5;241m*\u001b[39mkwargs)\u001b[38;5;241m.\u001b[39mprocess_id\n\u001b[0;32m    998\u001b[0m connected \u001b[38;5;241m=\u001b[39m \u001b[38;5;28;01mTrue\u001b[39;00m\n",
      "File \u001b[1;32m~\\AppData\\Roaming\\Python\\Python39\\site-packages\\pywinauto\\findwindows.py:98\u001b[0m, in \u001b[0;36mfind_element\u001b[1;34m(**kwargs)\u001b[0m\n\u001b[0;32m     97\u001b[0m     exception\u001b[38;5;241m.\u001b[39melements \u001b[38;5;241m=\u001b[39m elements\n\u001b[1;32m---> 98\u001b[0m     \u001b[38;5;28;01mraise\u001b[39;00m exception\n\u001b[0;32m    100\u001b[0m \u001b[38;5;28;01mreturn\u001b[39;00m elements[\u001b[38;5;241m0\u001b[39m]\n",
      "\u001b[1;31mElementAmbiguousError\u001b[0m: There are 2 elements that match the criteria {'title_re': 'Football Manager 2024', 'backend': 'win32', 'visible_only': False}",
      "\nDuring handling of the above exception, another exception occurred:\n",
      "\u001b[1;31mNameError\u001b[0m                                 Traceback (most recent call last)",
      "Cell \u001b[1;32mIn[32], line 2\u001b[0m\n\u001b[0;32m      1\u001b[0m \u001b[38;5;28;01mif\u001b[39;00m \u001b[38;5;18m__name__\u001b[39m \u001b[38;5;241m==\u001b[39m \u001b[38;5;124m\"\u001b[39m\u001b[38;5;124m__main__\u001b[39m\u001b[38;5;124m\"\u001b[39m:\n\u001b[1;32m----> 2\u001b[0m     \u001b[43mpraisebot\u001b[49m\u001b[38;5;241;43m.\u001b[39;49m\u001b[43mnavigate_to_fm_window\u001b[49m\u001b[43m(\u001b[49m\u001b[43m)\u001b[49m\n\u001b[0;32m      3\u001b[0m     pyautogui\u001b[38;5;241m.\u001b[39mhotkey(\u001b[38;5;124m'\u001b[39m\u001b[38;5;124mF3\u001b[39m\u001b[38;5;124m'\u001b[39m)\n\u001b[0;32m      4\u001b[0m     open_squad_view()\n",
      "File \u001b[1;32m~\\OneDrive\\Documents\\GitHub\\football_manager_code\\AI\\praisebot.py:153\u001b[0m, in \u001b[0;36mnavigate_to_fm_window\u001b[1;34m(window_title)\u001b[0m\n\u001b[0;32m    151\u001b[0m \u001b[38;5;28;01mexcept\u001b[39;00m \u001b[38;5;167;01mException\u001b[39;00m \u001b[38;5;28;01mas\u001b[39;00m e:\n\u001b[0;32m    152\u001b[0m     \u001b[38;5;28mprint\u001b[39m(\u001b[38;5;124mf\u001b[39m\u001b[38;5;124m\"\u001b[39m\u001b[38;5;124mFailed to activate \u001b[39m\u001b[38;5;132;01m{\u001b[39;00mwindow_title\u001b[38;5;132;01m}\u001b[39;00m\u001b[38;5;124m window: \u001b[39m\u001b[38;5;132;01m{\u001b[39;00me\u001b[38;5;132;01m}\u001b[39;00m\u001b[38;5;124m\"\u001b[39m)\n\u001b[1;32m--> 153\u001b[0m     \u001b[43msys\u001b[49m\u001b[38;5;241m.\u001b[39mexit()\n",
      "\u001b[1;31mNameError\u001b[0m: name 'sys' is not defined"
     ]
    }
   ],
   "source": [
    "if __name__ == \"__main__\":\n",
    "    praisebot.navigate_to_fm_window()\n",
    "    pyautogui.hotkey('F3')\n",
    "    open_squad_view()\n",
    "    export_squad_data()"
   ]
  }
 ],
 "metadata": {
  "kernelspec": {
   "display_name": "Python 3 (ipykernel)",
   "language": "python",
   "name": "python3"
  },
  "language_info": {
   "codemirror_mode": {
    "name": "ipython",
    "version": 3
   },
   "file_extension": ".py",
   "mimetype": "text/x-python",
   "name": "python",
   "nbconvert_exporter": "python",
   "pygments_lexer": "ipython3",
   "version": "3.9.18"
  }
 },
 "nbformat": 4,
 "nbformat_minor": 5
}
