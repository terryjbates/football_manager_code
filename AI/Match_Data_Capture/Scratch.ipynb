{
 "cells": [
  {
   "cell_type": "code",
   "execution_count": null,
   "id": "f03deb66-f800-423e-9258-6bd2f650fbb3",
   "metadata": {},
   "outputs": [],
   "source": []
  },
  {
   "cell_type": "markdown",
   "id": "38e60452-d608-4095-a29d-322f9c42d078",
   "metadata": {},
   "source": [
    "# Use End of Season Data"
   ]
  },
  {
   "cell_type": "markdown",
   "id": "f9948ca8-be28-47d2-8717-8f1355a756ee",
   "metadata": {},
   "source": [
    "I almost forgot that since we have simulated our save until the end of season, \n",
    "we can simply regenerate and import match data, as we prefix the data with the\n",
    "current \"in-game\" date, so it will distinguish between different sets of data files.\n",
    "\n",
    "To begin, we \"redo\" creating our predictions. We slightly rename the variables \n",
    "to get a clean sense of what the predicted match data was."
   ]
  },
  {
   "cell_type": "code",
   "execution_count": 577,
   "id": "d410869c-27b0-4f50-9e5e-93b4136a5f12",
   "metadata": {
    "tags": []
   },
   "outputs": [
    {
     "data": {
      "text/plain": [
       "array([1, 0, 0, 1, 0, 1, 0, 0, 0, 1, 0, 0, 0, 0, 0, 0, 0, 0, 1, 0, 0, 1,\n",
       "       0, 0, 1, 0, 1, 0, 1, 0, 0, 0, 0, 0, 0, 0, 0, 1, 0, 0, 0, 1, 0, 1,\n",
       "       0, 1, 0, 1, 1, 0, 1, 0, 0, 1, 0, 0, 0, 0, 0, 1, 0, 0, 0, 0, 1, 0,\n",
       "       0, 0, 0, 0, 0, 0, 0, 0, 1, 0, 0, 0, 1, 0, 1, 0, 0, 0, 1, 1, 0, 0,\n",
       "       0, 0, 0, 0, 0, 1, 0, 1, 1, 0, 0, 1, 0, 1, 0, 0, 1, 1, 0, 1, 1, 0,\n",
       "       1, 0, 1, 0, 0, 0, 0, 0, 1, 0, 0, 0, 0, 1, 0, 1, 0, 1, 0, 1, 0, 0,\n",
       "       0, 0, 0, 1, 0, 1, 0, 1, 0, 0, 0, 0, 0, 0, 0, 0, 0, 1, 0, 0, 0, 0,\n",
       "       1, 1, 0, 1, 0, 1, 0, 0, 0, 0, 0, 0, 1, 0, 0, 0, 0, 0, 0, 0, 0, 1,\n",
       "       0, 0, 0, 0, 1, 0, 1, 1, 0, 1, 0, 1, 0, 0, 0, 0, 0, 0, 0, 0, 0, 0,\n",
       "       1, 0, 0, 0, 1, 1, 0, 0, 0, 0, 0, 1, 0, 1, 0, 0, 0, 0, 0, 1, 0, 0,\n",
       "       1, 1, 1, 1, 0, 0, 1, 0, 0, 1, 0, 0, 0, 0, 1, 1, 0, 1, 0, 0, 0, 1,\n",
       "       0, 0, 0, 0, 1, 0, 0, 0, 0, 1, 1, 0, 1, 1, 0, 0, 0, 0, 0, 1, 0, 1,\n",
       "       0, 0, 0, 1, 0, 0, 0, 0, 1, 0, 1, 0, 0, 0, 0, 0, 0, 0, 0])"
      ]
     },
     "execution_count": 577,
     "metadata": {},
     "output_type": "execute_result"
    }
   ],
   "source": [
    "original_predictions_for_matches_to_be_played =  rf.predict(all_matches_no_results[predictors + predictors_80_percent])\n",
    "\n",
    "original_predictions_for_matches_to_be_played"
   ]
  },
  {
   "cell_type": "code",
   "execution_count": 578,
   "id": "1203f549-d2c9-43b5-acc9-a8c5442e240b",
   "metadata": {
    "tags": []
   },
   "outputs": [
    {
     "data": {
      "text/html": [
       "<div>\n",
       "<style scoped>\n",
       "    .dataframe tbody tr th:only-of-type {\n",
       "        vertical-align: middle;\n",
       "    }\n",
       "\n",
       "    .dataframe tbody tr th {\n",
       "        vertical-align: top;\n",
       "    }\n",
       "\n",
       "    .dataframe thead th {\n",
       "        text-align: right;\n",
       "    }\n",
       "</style>\n",
       "<table border=\"1\" class=\"dataframe\">\n",
       "  <thead>\n",
       "    <tr style=\"text-align: right;\">\n",
       "      <th></th>\n",
       "      <th>actual</th>\n",
       "      <th>predicted</th>\n",
       "    </tr>\n",
       "  </thead>\n",
       "  <tbody>\n",
       "    <tr>\n",
       "      <th>17</th>\n",
       "      <td>0</td>\n",
       "      <td>1</td>\n",
       "    </tr>\n",
       "    <tr>\n",
       "      <th>23</th>\n",
       "      <td>0</td>\n",
       "      <td>0</td>\n",
       "    </tr>\n",
       "    <tr>\n",
       "      <th>27</th>\n",
       "      <td>0</td>\n",
       "      <td>0</td>\n",
       "    </tr>\n",
       "    <tr>\n",
       "      <th>28</th>\n",
       "      <td>0</td>\n",
       "      <td>1</td>\n",
       "    </tr>\n",
       "    <tr>\n",
       "      <th>29</th>\n",
       "      <td>0</td>\n",
       "      <td>0</td>\n",
       "    </tr>\n",
       "  </tbody>\n",
       "</table>\n",
       "</div>"
      ],
      "text/plain": [
       "    actual  predicted\n",
       "17       0          1\n",
       "23       0          0\n",
       "27       0          0\n",
       "28       0          1\n",
       "29       0          0"
      ]
     },
     "execution_count": 578,
     "metadata": {},
     "output_type": "execute_result"
    }
   ],
   "source": [
    "# We change the array into a dataframe\n",
    "original_predictions_for_matches_to_be_played = \\\n",
    "    pd.DataFrame(dict(actual=all_matches_no_results['target'], \n",
    "                      predicted=original_predictions_for_matches_to_be_played), index=all_matches_no_results.index )\n",
    "# This should have 0 and 1 in a dataframe for our predictions\n",
    "original_predictions_for_matches_to_be_played.head()"
   ]
  },
  {
   "cell_type": "markdown",
   "id": "81e2976f-8366-49b7-a56d-9d1f855f3d8e",
   "metadata": {},
   "source": [
    "With our predictions back in play, we can re-run our match data import code. And it should reflect end-of-season state."
   ]
  },
  {
   "cell_type": "code",
   "execution_count": 627,
   "id": "11a6bbc2-be62-4e9d-8205-796673cd5fd5",
   "metadata": {
    "tags": []
   },
   "outputs": [],
   "source": [
    "def group_locations(locations, threshold=10):\n",
    "    \"\"\"\n",
    "    Group nearby locations to treat them as a single location.\n",
    "    \"\"\"\n",
    "    grouped = []\n",
    "    for loc in locations:\n",
    "        if not grouped:\n",
    "            grouped.append([loc])\n",
    "        else:\n",
    "            match = False\n",
    "            for group in grouped:\n",
    "                if abs(group[0][0] - loc[0]) < threshold and abs(group[0][1] - loc[1]) < threshold:\n",
    "                    group.append(loc)\n",
    "                    match = True\n",
    "                    break\n",
    "            if not match:\n",
    "                grouped.append([loc])\n",
    "    return [tuple(np.mean(g, axis=0).astype(int)) for g in grouped]\n",
    "\n",
    "\n",
    "\n",
    "# Test to see if we can locate `data_dumps` dir via screenshot\n",
    "open_dir(BASE_DIR)\n",
    "\n",
    "\n",
    "\n",
    "\n",
    "# navigate_to_fm_window()\n",
    "# Set our image path\n",
    "\n",
    "def click_reference_image(reference_image_path):\n",
    "    # reference_image_path = './data_dump_folder.png'\n",
    "    # Load the reference image and ensure it is in the correct format\n",
    "    reference_image = cv2.imread(reference_image_path, cv2.IMREAD_COLOR)\n",
    "\n",
    "    # Verify that the reference image is loaded properly\n",
    "    if reference_image is None:\n",
    "        raise ValueError(\"Reference image not found or unable to load.\")\n",
    "\n",
    "    # Take a screenshot of the specified rating_region\n",
    "    screenshot = pyautogui.screenshot()\n",
    "    screenshot = np.array(screenshot)\n",
    "    screenshot = cv2.cvtColor(screenshot, cv2.COLOR_RGB2BGR)\n",
    "\n",
    "    # Ensure both images are of the same type (either both grayscale or both color)\n",
    "    # If using grayscale, uncomment the following lines:\n",
    "    reference_image = cv2.cvtColor(reference_image, cv2.COLOR_BGR2GRAY)\n",
    "    screenshot = cv2.cvtColor(screenshot, cv2.COLOR_BGR2GRAY)    \n",
    "\n",
    "    # Find the reference image within the screenshot \n",
    "    result = cv2.matchTemplate(screenshot, reference_image, cv2.TM_CCOEFF_NORMED)\n",
    "\n",
    "    # Define a threshold\n",
    "    threshold = 0.80\n",
    "\n",
    "\n",
    "    # Get the locations where the matches exceed the threshold\n",
    "    locations = np.where(result >= threshold)\n",
    "    locations = list(zip(*locations[::-1]))\n",
    "\n",
    "    # Group the locations\n",
    "    grouped_locations = group_locations(locations)\n",
    "\n",
    "    # Pretty print locations detected\n",
    "    #pprint.pprint(locations)\n",
    "\n",
    "    # Process each matching location\n",
    "    i = 0\n",
    "    for loc in grouped_locations:\n",
    "        # Calculate the center point\n",
    "        center_x = loc[0] + int(reference_image.shape[1] / 2)\n",
    "        center_y = loc[1] + int(reference_image.shape[0] / 2)\n",
    "\n",
    "        # # Add the rating_region's offset to get the absolute screen position\n",
    "        # screen_x = rating_region[0] + center_x\n",
    "        # screen_y = rating_region[1] + center_y\n",
    "\n",
    "        # Perform the click and praise action\n",
    "        pyautogui.click(center_x, center_y)\n",
    "        print(f\"Want to click on  {center_x}, {center_y} and now sleeping\" )\n",
    "\n",
    "    \n"
   ]
  },
  {
   "cell_type": "code",
   "execution_count": 621,
   "id": "0a6e99e0-f64b-40b6-b8a8-76a2306e208d",
   "metadata": {
    "tags": []
   },
   "outputs": [
    {
     "name": "stdout",
     "output_type": "stream",
     "text": [
      "Football Manager 2024 window is now active.\n",
      "Paged Up\n",
      "Want to click on  253, 447 and now sleeping\n"
     ]
    }
   ],
   "source": [
    "def print_mouse_position():\n",
    "    x,y = pyautogui.position()\n",
    "    print(f\"X: {x}, Y: {y}\", end=\"\\r\")\n",
    "\n",
    "\n",
    "\n",
    "navigate_to_fm_window()    \n",
    "# Click on a nominal \"month\" location\n",
    "# click_on_coords((2210, 3870))\n",
    "\n",
    "# click_on_coords((2210, 3870))\n",
    "# pyautogui.doubleClick()\n",
    "# time.sleep(SLEEP_DURATION)\n",
    "# print(\"Clicked on Month\")\n",
    "# print_mouse_position()\n",
    "\n",
    "\n",
    "# pyautogui.scroll(-30)\n",
    "pyautogui.press('pageup')\n",
    "pyautogui.press('pageup')\n",
    "time.sleep(SLEEP_DURATION)\n",
    "print(\"Paged Up\")\n",
    "print_mouse_position()\n",
    "\n",
    "click_reference_image(\"./First_Match_Date.png\")\n",
    "time.sleep(SLEEP_DURATION)\n",
    "\n",
    "\n",
    "# Click first match in schedule on far right to avoid issues\n",
    "# click_on_coords((142, 4500))\n",
    "# time.sleep(SLEEP_DURATION)\n",
    "# print(\"Clicked first match\")\n",
    "# print_mouse_position()\n",
    "\n",
    "# Select all matches\n",
    "pyautogui.hotkey('ctrl', 'a')\n",
    "time.sleep(SLEEP_DURATION)"
   ]
  },
  {
   "cell_type": "code",
   "execution_count": 628,
   "id": "223cb317-8902-4812-9ad8-f5a4fd739960",
   "metadata": {
    "tags": []
   },
   "outputs": [
    {
     "name": "stdout",
     "output_type": "stream",
     "text": [
      "Football Manager 2024 window is now active.\n",
      "Team Name: Hearts of Oak SC\n",
      "\n",
      "Extracted date text: Sun 09:00\n",
      "2 Jun 2024\n",
      "\n",
      "Output File: 2024_06_02_Hearts of Oak SC\n",
      "\n",
      "Paged Up\n",
      "Want to click on  252, 1008 and now sleeping\n",
      "Team Name: Bibiani Gold Stars FC\n",
      "\n",
      "Extracted date text: Sun 12:00\n",
      "2 Jun 2024\n",
      "\n",
      "Output File: 2024_06_02_Bibiani Gold Stars FC\n",
      "\n",
      "Paged Up\n",
      "Want to click on  252, 1131 and now sleeping\n"
     ]
    },
    {
     "ename": "FailSafeException",
     "evalue": "PyAutoGUI fail-safe triggered from mouse moving to a corner of the screen. To disable this fail-safe, set pyautogui.FAILSAFE to False. DISABLING FAIL-SAFE IS NOT RECOMMENDED.",
     "output_type": "error",
     "traceback": [
      "\u001b[1;31m---------------------------------------------------------------------------\u001b[0m",
      "\u001b[1;31mFailSafeException\u001b[0m                         Traceback (most recent call last)",
      "Cell \u001b[1;32mIn[628], line 1\u001b[0m\n\u001b[1;32m----> 1\u001b[0m \u001b[43mgenerate_match_data_files\u001b[49m\u001b[43m(\u001b[49m\u001b[43m)\u001b[49m\n",
      "Cell \u001b[1;32mIn[281], line 40\u001b[0m, in \u001b[0;36mgenerate_match_data_files\u001b[1;34m()\u001b[0m\n\u001b[0;32m     38\u001b[0m output_file_name \u001b[38;5;241m=\u001b[39m parsed_date \u001b[38;5;241m+\u001b[39m \u001b[38;5;124m\"\u001b[39m\u001b[38;5;124m_\u001b[39m\u001b[38;5;124m\"\u001b[39m  \u001b[38;5;241m+\u001b[39m team_name\n\u001b[0;32m     39\u001b[0m \u001b[38;5;28mprint\u001b[39m(\u001b[38;5;124mf\u001b[39m\u001b[38;5;124m\"\u001b[39m\u001b[38;5;124mOutput File: \u001b[39m\u001b[38;5;132;01m{\u001b[39;00moutput_file_name\u001b[38;5;132;01m}\u001b[39;00m\u001b[38;5;124m\"\u001b[39m)\n\u001b[1;32m---> 40\u001b[0m \u001b[43mprint_match_data_to_file\u001b[49m\u001b[43m(\u001b[49m\u001b[43moutput_file_name\u001b[49m\u001b[43m)\u001b[49m\n\u001b[0;32m     42\u001b[0m back_button()\n\u001b[0;32m     43\u001b[0m back_button()\n",
      "Cell \u001b[1;32mIn[626], line 265\u001b[0m, in \u001b[0;36mprint_match_data_to_file\u001b[1;34m(output_file)\u001b[0m\n\u001b[0;32m    262\u001b[0m pyautogui\u001b[38;5;241m.\u001b[39mdoubleClick()\n\u001b[0;32m    264\u001b[0m \u001b[38;5;66;03m# Enter the file name\u001b[39;00m\n\u001b[1;32m--> 265\u001b[0m \u001b[43mpyautogui\u001b[49m\u001b[38;5;241;43m.\u001b[39;49m\u001b[43mwrite\u001b[49m\u001b[43m(\u001b[49m\u001b[43moutput_file\u001b[49m\u001b[43m)\u001b[49m\n\u001b[0;32m    266\u001b[0m time\u001b[38;5;241m.\u001b[39msleep(SLEEP_DURATION)\n\u001b[0;32m    268\u001b[0m \u001b[38;5;66;03m# Hit <enter> to OK the save file\u001b[39;00m\n",
      "File \u001b[1;32m~\\AppData\\Roaming\\Python\\Python39\\site-packages\\pyautogui\\__init__.py:593\u001b[0m, in \u001b[0;36m_genericPyAutoGUIChecks.<locals>.wrapper\u001b[1;34m(*args, **kwargs)\u001b[0m\n\u001b[0;32m    591\u001b[0m \u001b[38;5;129m@functools\u001b[39m\u001b[38;5;241m.\u001b[39mwraps(wrappedFunction)\n\u001b[0;32m    592\u001b[0m \u001b[38;5;28;01mdef\u001b[39;00m \u001b[38;5;21mwrapper\u001b[39m(\u001b[38;5;241m*\u001b[39margs, \u001b[38;5;241m*\u001b[39m\u001b[38;5;241m*\u001b[39mkwargs):\n\u001b[1;32m--> 593\u001b[0m     \u001b[43mfailSafeCheck\u001b[49m\u001b[43m(\u001b[49m\u001b[43m)\u001b[49m\n\u001b[0;32m    594\u001b[0m     returnVal \u001b[38;5;241m=\u001b[39m wrappedFunction(\u001b[38;5;241m*\u001b[39margs, \u001b[38;5;241m*\u001b[39m\u001b[38;5;241m*\u001b[39mkwargs)\n\u001b[0;32m    595\u001b[0m     _handlePause(kwargs\u001b[38;5;241m.\u001b[39mget(\u001b[38;5;124m\"\u001b[39m\u001b[38;5;124m_pause\u001b[39m\u001b[38;5;124m\"\u001b[39m, \u001b[38;5;28;01mTrue\u001b[39;00m))\n",
      "File \u001b[1;32m~\\AppData\\Roaming\\Python\\Python39\\site-packages\\pyautogui\\__init__.py:1734\u001b[0m, in \u001b[0;36mfailSafeCheck\u001b[1;34m()\u001b[0m\n\u001b[0;32m   1732\u001b[0m \u001b[38;5;28;01mdef\u001b[39;00m \u001b[38;5;21mfailSafeCheck\u001b[39m():\n\u001b[0;32m   1733\u001b[0m     \u001b[38;5;28;01mif\u001b[39;00m FAILSAFE \u001b[38;5;129;01mand\u001b[39;00m \u001b[38;5;28mtuple\u001b[39m(position()) \u001b[38;5;129;01min\u001b[39;00m FAILSAFE_POINTS:\n\u001b[1;32m-> 1734\u001b[0m         \u001b[38;5;28;01mraise\u001b[39;00m FailSafeException(\n\u001b[0;32m   1735\u001b[0m             \u001b[38;5;124m\"\u001b[39m\u001b[38;5;124mPyAutoGUI fail-safe triggered from mouse moving to a corner of the screen. To disable this fail-safe, set pyautogui.FAILSAFE to False. DISABLING FAIL-SAFE IS NOT RECOMMENDED.\u001b[39m\u001b[38;5;124m\"\u001b[39m\n\u001b[0;32m   1736\u001b[0m         )\n",
      "\u001b[1;31mFailSafeException\u001b[0m: PyAutoGUI fail-safe triggered from mouse moving to a corner of the screen. To disable this fail-safe, set pyautogui.FAILSAFE to False. DISABLING FAIL-SAFE IS NOT RECOMMENDED."
     ]
    }
   ],
   "source": [
    "generate_match_data_files()"
   ]
  }
 ],
 "metadata": {
  "kernelspec": {
   "display_name": "Python 3 (ipykernel)",
   "language": "python",
   "name": "python3"
  },
  "language_info": {
   "codemirror_mode": {
    "name": "ipython",
    "version": 3
   },
   "file_extension": ".py",
   "mimetype": "text/x-python",
   "name": "python",
   "nbconvert_exporter": "python",
   "pygments_lexer": "ipython3",
   "version": "3.9.18"
  }
 },
 "nbformat": 4,
 "nbformat_minor": 5
}
