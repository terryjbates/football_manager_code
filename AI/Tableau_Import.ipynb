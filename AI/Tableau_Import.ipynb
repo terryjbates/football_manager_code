{
 "cells": [
  {
   "cell_type": "code",
   "execution_count": 209,
   "id": "2e4fa8ed-f04e-4ae2-b357-ff686313df06",
   "metadata": {
    "tags": []
   },
   "outputs": [],
   "source": [
    "import pandas as pd\n",
    "import numpy as np\n",
    "import sys\n",
    "import os\n",
    "from bs4 import BeautifulSoup\n",
    "from IPython.display import display, HTML\n",
    "from datetime import datetime\n",
    "import re"
   ]
  },
  {
   "cell_type": "code",
   "execution_count": 210,
   "id": "e8f6c607-dc85-42be-a0f7-df03078a7618",
   "metadata": {
    "tags": []
   },
   "outputs": [],
   "source": [
    "IMPORT_FILE = 'Scouting_Dump_Oct_2025.html'"
   ]
  },
  {
   "cell_type": "code",
   "execution_count": 211,
   "id": "942eb43d-23b9-4090-b94f-5cacd42a578d",
   "metadata": {
    "tags": []
   },
   "outputs": [],
   "source": [
    "def open_dir(dir_name):\n",
    "    os.chdir(dir_name)\n",
    "    os.getcwd()"
   ]
  },
  {
   "cell_type": "code",
   "execution_count": 212,
   "id": "7e5291fe-b64e-4c72-bf68-8fdd42f844f2",
   "metadata": {
    "tags": []
   },
   "outputs": [],
   "source": [
    "def parse_html_table(file_path):\n",
    "    with open(file_path, 'r', encoding='utf-8') as f:\n",
    "        soup = BeautifulSoup(f, 'html.parser')\n",
    "\n",
    "    table = soup.find('table')  # Adjust the selector if needed\n",
    "\n",
    "    # Find headers and data rows directly from the table\n",
    "    headers = [th.text for th in table.find_all('th')]\n",
    "    data = []\n",
    "    for row in table.find_all('tr')[1:]:  # Skip the first row if it's a header\n",
    "        row_data = [td.text for td in row.find_all('td')]\n",
    "        data.append(row_data)\n",
    "\n",
    "    # Create DataFrame\n",
    "    df = pd.DataFrame(data, columns=headers)\n",
    "    return df"
   ]
  },
  {
   "cell_type": "code",
   "execution_count": 213,
   "id": "954d1c29-4991-43fd-a443-8a8ae7558e11",
   "metadata": {
    "tags": []
   },
   "outputs": [
    {
     "data": {
      "text/plain": [
       "'C:\\\\Users\\\\lover\\\\OneDrive\\\\Documents\\\\GitHub\\\\football_manager_code\\\\AI'"
      ]
     },
     "execution_count": 213,
     "metadata": {},
     "output_type": "execute_result"
    }
   ],
   "source": [
    "os.getcwd()"
   ]
  },
  {
   "cell_type": "code",
   "execution_count": 214,
   "id": "bb456be5-82f5-4b46-9862-9ef9b2989588",
   "metadata": {
    "tags": []
   },
   "outputs": [
    {
     "data": {
      "text/html": [
       "<div>\n",
       "<style scoped>\n",
       "    .dataframe tbody tr th:only-of-type {\n",
       "        vertical-align: middle;\n",
       "    }\n",
       "\n",
       "    .dataframe tbody tr th {\n",
       "        vertical-align: top;\n",
       "    }\n",
       "\n",
       "    .dataframe thead th {\n",
       "        text-align: right;\n",
       "    }\n",
       "</style>\n",
       "<table border=\"1\" class=\"dataframe\">\n",
       "  <thead>\n",
       "    <tr style=\"text-align: right;\">\n",
       "      <th></th>\n",
       "      <th>Inf</th>\n",
       "      <th>Name</th>\n",
       "      <th>UID</th>\n",
       "      <th>Best Pos</th>\n",
       "      <th>Best Role</th>\n",
       "      <th>Best Duty</th>\n",
       "      <th>Pros</th>\n",
       "      <th>Cons</th>\n",
       "      <th>Position</th>\n",
       "      <th>Club</th>\n",
       "      <th>...</th>\n",
       "      <th>Cmp</th>\n",
       "      <th>Com</th>\n",
       "      <th>Cmd</th>\n",
       "      <th>Bra</th>\n",
       "      <th>Bal</th>\n",
       "      <th>Ant</th>\n",
       "      <th>Agi</th>\n",
       "      <th>Agg</th>\n",
       "      <th>Aer</th>\n",
       "      <th>Acc</th>\n",
       "    </tr>\n",
       "  </thead>\n",
       "  <tbody>\n",
       "    <tr>\n",
       "      <th>0</th>\n",
       "      <td></td>\n",
       "      <td></td>\n",
       "      <td></td>\n",
       "      <td></td>\n",
       "      <td></td>\n",
       "      <td></td>\n",
       "      <td></td>\n",
       "      <td></td>\n",
       "      <td></td>\n",
       "      <td></td>\n",
       "      <td>...</td>\n",
       "      <td></td>\n",
       "      <td></td>\n",
       "      <td></td>\n",
       "      <td></td>\n",
       "      <td></td>\n",
       "      <td></td>\n",
       "      <td></td>\n",
       "      <td></td>\n",
       "      <td></td>\n",
       "      <td></td>\n",
       "    </tr>\n",
       "    <tr>\n",
       "      <th>1</th>\n",
       "      <td>Wnt</td>\n",
       "      <td>Martial Tia</td>\n",
       "      <td>12095307</td>\n",
       "      <td>M (C)</td>\n",
       "      <td>Central Midfielder</td>\n",
       "      <td>Attack</td>\n",
       "      <td>Speed</td>\n",
       "      <td>Marking</td>\n",
       "      <td>M/AM (C)</td>\n",
       "      <td>AFE</td>\n",
       "      <td>...</td>\n",
       "      <td>10</td>\n",
       "      <td>3</td>\n",
       "      <td>2</td>\n",
       "      <td>7</td>\n",
       "      <td>8</td>\n",
       "      <td>7</td>\n",
       "      <td>11</td>\n",
       "      <td>14</td>\n",
       "      <td>1</td>\n",
       "      <td>13</td>\n",
       "    </tr>\n",
       "    <tr>\n",
       "      <th>2</th>\n",
       "      <td></td>\n",
       "      <td>Ibrahim Sulley</td>\n",
       "      <td>13193986</td>\n",
       "      <td>AM (C)</td>\n",
       "      <td>Shadow Striker</td>\n",
       "      <td>Attack</td>\n",
       "      <td>Speed</td>\n",
       "      <td>Team Player</td>\n",
       "      <td>AM (C), ST (C)</td>\n",
       "      <td>Great Olympics</td>\n",
       "      <td>...</td>\n",
       "      <td>9</td>\n",
       "      <td>3</td>\n",
       "      <td>2</td>\n",
       "      <td>6</td>\n",
       "      <td>8</td>\n",
       "      <td>9</td>\n",
       "      <td>14</td>\n",
       "      <td>12</td>\n",
       "      <td>1</td>\n",
       "      <td>14</td>\n",
       "    </tr>\n",
       "    <tr>\n",
       "      <th>3</th>\n",
       "      <td>Loa</td>\n",
       "      <td>Mohamed Hamdy</td>\n",
       "      <td>2000071475</td>\n",
       "      <td>AM (C)</td>\n",
       "      <td>Advanced Playmaker</td>\n",
       "      <td>Support</td>\n",
       "      <td>Intelligence</td>\n",
       "      <td>Athleticism</td>\n",
       "      <td>M/AM (C)</td>\n",
       "      <td>Al-Ahly</td>\n",
       "      <td>...</td>\n",
       "      <td>11</td>\n",
       "      <td>1</td>\n",
       "      <td>2</td>\n",
       "      <td>8</td>\n",
       "      <td>9</td>\n",
       "      <td>11</td>\n",
       "      <td>13</td>\n",
       "      <td>8</td>\n",
       "      <td>4</td>\n",
       "      <td>10</td>\n",
       "    </tr>\n",
       "    <tr>\n",
       "      <th>4</th>\n",
       "      <td></td>\n",
       "      <td>George Ayine</td>\n",
       "      <td>83258606</td>\n",
       "      <td>M (C)</td>\n",
       "      <td>Ball Winning Midfielder</td>\n",
       "      <td>Defend</td>\n",
       "      <td>Speed</td>\n",
       "      <td>Unknown</td>\n",
       "      <td>M/AM (C)</td>\n",
       "      <td>Fréjus-Saint-Raphaël</td>\n",
       "      <td>...</td>\n",
       "      <td>9</td>\n",
       "      <td>2</td>\n",
       "      <td>2</td>\n",
       "      <td>11</td>\n",
       "      <td>9</td>\n",
       "      <td>11</td>\n",
       "      <td>10</td>\n",
       "      <td>12</td>\n",
       "      <td>2</td>\n",
       "      <td>12</td>\n",
       "    </tr>\n",
       "  </tbody>\n",
       "</table>\n",
       "<p>5 rows × 203 columns</p>\n",
       "</div>"
      ],
      "text/plain": [
       "   Inf            Name         UID Best Pos                Best Role  \\\n",
       "0                                                                      \n",
       "1  Wnt     Martial Tia    12095307    M (C)       Central Midfielder   \n",
       "2       Ibrahim Sulley    13193986   AM (C)           Shadow Striker   \n",
       "3  Loa   Mohamed Hamdy  2000071475   AM (C)       Advanced Playmaker   \n",
       "4         George Ayine    83258606    M (C)  Ball Winning Midfielder   \n",
       "\n",
       "  Best Duty          Pros         Cons        Position                  Club  \\\n",
       "0                                                                              \n",
       "1    Attack         Speed      Marking        M/AM (C)                   AFE   \n",
       "2    Attack         Speed  Team Player  AM (C), ST (C)        Great Olympics   \n",
       "3   Support  Intelligence  Athleticism        M/AM (C)               Al-Ahly   \n",
       "4    Defend         Speed      Unknown        M/AM (C)  Fréjus-Saint-Raphaël   \n",
       "\n",
       "   ... Cmp Com Cmd Bra Bal Ant Agi Agg Aer Acc  \n",
       "0  ...                                          \n",
       "1  ...  10   3   2   7   8   7  11  14   1  13  \n",
       "2  ...   9   3   2   6   8   9  14  12   1  14  \n",
       "3  ...  11   1   2   8   9  11  13   8   4  10  \n",
       "4  ...   9   2   2  11   9  11  10  12   2  12  \n",
       "\n",
       "[5 rows x 203 columns]"
      ]
     },
     "execution_count": 214,
     "metadata": {},
     "output_type": "execute_result"
    }
   ],
   "source": [
    "scouting_data = parse_html_table(IMPORT_FILE)\n",
    "scouting_data.head()"
   ]
  },
  {
   "cell_type": "code",
   "execution_count": 215,
   "id": "736c209e-c0cb-402f-8cc2-e9cf7c973704",
   "metadata": {
    "tags": []
   },
   "outputs": [
    {
     "data": {
      "text/plain": [
       "Index(['Inf', 'Name', 'UID', 'Best Pos', 'Best Role', 'Best Duty', 'Pros',\n",
       "       'Cons', 'Position', 'Club',\n",
       "       ...\n",
       "       'Cmp', 'Com', 'Cmd', 'Bra', 'Bal', 'Ant', 'Agi', 'Agg', 'Aer', 'Acc'],\n",
       "      dtype='object', length=203)"
      ]
     },
     "execution_count": 215,
     "metadata": {},
     "output_type": "execute_result"
    }
   ],
   "source": [
    "scouting_data.columns"
   ]
  },
  {
   "cell_type": "code",
   "execution_count": 216,
   "id": "193c201b-22fa-49f8-a000-27b707c2279a",
   "metadata": {
    "tags": []
   },
   "outputs": [
    {
     "name": "stdout",
     "output_type": "stream",
     "text": [
      "Inf\n",
      "Name\n",
      "UID\n",
      "Best Pos\n",
      "Best Role\n",
      "Best Duty\n",
      "Pros\n",
      "Cons\n",
      "Position\n",
      "Club\n",
      "On Loan From\n",
      "Based\n",
      "Asking Price\n",
      "Salary\n",
      "Expires\n",
      "Nat\n",
      "2nd Nat\n",
      "Home Grown Status\n",
      "Height\n",
      "Weight\n",
      "Preferred Foot\n",
      "Age\n",
      "Personality\n",
      "Media Handling\n",
      "Transfer Value\n",
      "Apps\n",
      "Starts\n",
      "Mins\n",
      "Mins/Gm\n",
      "Av Rat\n",
      "Yth Gls\n",
      "Yth Apps\n",
      "Gls\n",
      "Gls/90\n",
      "Shots\n",
      "ShT\n",
      "Shot %\n",
      "Shot/90\n",
      "ShT/90\n",
      "Pens\n",
      "Pens S\n",
      "Pen/R\n",
      "Off\n",
      "xG\n",
      "CCC\n",
      "Ch C/90\n",
      "Ast\n",
      "Asts/90\n",
      "K Pas\n",
      "K Ps/90\n",
      "Pas A\n",
      "Ps A/90\n",
      "Ps C\n",
      "Ps C/90\n",
      "Pas %\n",
      "Cr A\n",
      "Cr C\n",
      "Cr C/A\n",
      "Drb\n",
      "Goals Outside Box\n",
      "FK Shots\n",
      "OP-Cr %\n",
      "Tck A\n",
      "Shots Outside Box/90\n",
      "Shts Blckd/90\n",
      "Shts Blckd\n",
      "Pr passes/90\n",
      "Pr Passes\n",
      "Pres C/90\n",
      "Pres C\n",
      "Pres A/90\n",
      "Pres A\n",
      "Poss Won/90\n",
      "Poss Lost/90\n",
      "OP-KP/90\n",
      "OP-KP\n",
      "OP-Crs C/90\n",
      "OP-Crs C\n",
      "OP-Crs A/90\n",
      "OP-Crs A\n",
      "Gl Mst\n",
      "Hdrs L/90\n",
      "K Tck/90\n",
      "K Hdrs/90\n",
      "Sprints/90\n",
      "xGP/90\n",
      "Blk\n",
      "xG/shot\n",
      "xGP\n",
      "Clr/90\n",
      "Blk/90\n",
      "Conv %\n",
      "Crs A/90\n",
      "Cr C/90\n",
      "Dist/90\n",
      "Drb/90\n",
      "FA\n",
      "Distance\n",
      "Hdrs A\n",
      "Aer A/90\n",
      "Hdrs\n",
      "Hdrs W/90\n",
      "Hdr %\n",
      "K Tck\n",
      "Tck W\n",
      "Tck/90\n",
      "Tck R\n",
      "Fls\n",
      "Yel\n",
      "Red\n",
      "Itc\n",
      "Int/90\n",
      "Clear\n",
      "Conc\n",
      "All/90\n",
      "Shutouts\n",
      "xSv %\n",
      "Svh\n",
      "Svt\n",
      "Svp\n",
      "Sv %\n",
      "Pens Faced\n",
      "Pens Saved\n",
      "Pens Saved Ratio\n",
      "PoM\n",
      "AT Apps\n",
      "Saves/90\n",
      "Tgls/90\n",
      "Tcon/90\n",
      "Tall\n",
      "Tgls\n",
      "Pts/Gm\n",
      "NP-xG/90\n",
      "NP-xG\n",
      "Last Gl\n",
      "Last C\n",
      "Last 5 Games\n",
      "Last 5 FT Games\n",
      "Int Conc\n",
      "Int Av Rat\n",
      "Int Ast\n",
      "Int Apps\n",
      "Won\n",
      "G. Mis\n",
      "Lost\n",
      "D\n",
      "Gwin\n",
      "xG/90\n",
      "xG-OP\n",
      "xA/90\n",
      "xA\n",
      "Cln/90\n",
      "Mins/Gl\n",
      "AT Lge Gls\n",
      "AT Lge Apps\n",
      "AT Gls\n",
      "Wor\n",
      "Vis\n",
      "Thr\n",
      "Tec\n",
      "Tea\n",
      "Tck\n",
      "Str\n",
      "Sta\n",
      "TRO\n",
      "Ref\n",
      "Pun\n",
      "Pos\n",
      "Pen\n",
      "Pas\n",
      "Pac\n",
      "1v1\n",
      "OtB\n",
      "Nat\n",
      "Mar\n",
      "L Th\n",
      "Lon\n",
      "Ldr\n",
      "Kic\n",
      "Jum\n",
      "Hea\n",
      "Han\n",
      "Fre\n",
      "Fla\n",
      "Fir\n",
      "Fin\n",
      "Ecc\n",
      "Dri\n",
      "Det\n",
      "Dec\n",
      "Cro\n",
      "Cor\n",
      "Cnt\n",
      "Cmp\n",
      "Com\n",
      "Cmd\n",
      "Bra\n",
      "Bal\n",
      "Ant\n",
      "Agi\n",
      "Agg\n",
      "Aer\n",
      "Acc\n"
     ]
    }
   ],
   "source": [
    "for col in scouting_data.columns:\n",
    "    print(col)"
   ]
  },
  {
   "cell_type": "markdown",
   "id": "e53ddf90-6246-4a99-bcad-2f170b15bc10",
   "metadata": {},
   "source": [
    "We need to exclude some columns and the rest we need to cast into numerical data and/or clean accordingly."
   ]
  },
  {
   "cell_type": "code",
   "execution_count": 217,
   "id": "288b5924-ee49-43c5-93b6-89990055211e",
   "metadata": {
    "tags": []
   },
   "outputs": [
    {
     "data": {
      "text/plain": [
       "['Inf',\n",
       " 'Name',\n",
       " 'Apps',\n",
       " 'Best Pos',\n",
       " 'Best Role',\n",
       " 'Best Duty',\n",
       " 'Pros',\n",
       " 'Expires',\n",
       " 'Distance',\n",
       " 'Dist/90',\n",
       " 'Cons',\n",
       " 'Position',\n",
       " 'Club',\n",
       " 'On Loan From',\n",
       " 'Based',\n",
       " 'Asking Price',\n",
       " 'Salary',\n",
       " 'Nat',\n",
       " '2nd Nat',\n",
       " 'Home Grown Status',\n",
       " 'Height',\n",
       " 'Weight',\n",
       " 'Preferred Foot',\n",
       " 'Personality',\n",
       " 'Media Handling',\n",
       " 'Shot %',\n",
       " 'Pas %',\n",
       " 'OP-Cr %',\n",
       " 'Conv %',\n",
       " 'Hdr %',\n",
       " 'xSv %',\n",
       " 'Sv %',\n",
       " 'Transfer Value']"
      ]
     },
     "execution_count": 217,
     "metadata": {},
     "output_type": "execute_result"
    }
   ],
   "source": [
    "EXCLUDE_COLS = \"\"\"Inf\n",
    "Name\n",
    "Apps\n",
    "Best Pos\n",
    "Best Role\n",
    "Best Duty\n",
    "Pros\n",
    "Expires\n",
    "Distance\n",
    "Dist/90\n",
    "Cons\n",
    "Position\n",
    "Club\n",
    "On Loan From\n",
    "Based\n",
    "Asking Price\n",
    "Salary\n",
    "Nat\n",
    "2nd Nat\n",
    "Home Grown Status\n",
    "Height\n",
    "Weight\n",
    "Preferred Foot\n",
    "Personality\n",
    "Media Handling\n",
    "Shot %\n",
    "Pas %\n",
    "OP-Cr %\n",
    "Conv %\n",
    "Hdr %\n",
    "xSv %\n",
    "Sv %\n",
    "Transfer Value\"\"\".split(\"\\n\")\n",
    "EXCLUDE_COLS"
   ]
  },
  {
   "cell_type": "code",
   "execution_count": 218,
   "id": "ad81b472-7ca0-40aa-824a-ca7790fec05d",
   "metadata": {
    "tags": []
   },
   "outputs": [],
   "source": [
    "# EXCLUDE_COLS.remove('Age')  # Not a text col\n",
    "# EXCLUDE_COLS.remove('UID')  # UUID\n",
    "# EXCLUDE_COLS.remove('Expires')  # Should convert to Datetime\n",
    "EXCLUDE_COLS.append('decimal_height')  # Should convert to Datetime\n"
   ]
  },
  {
   "cell_type": "code",
   "execution_count": 219,
   "id": "2112cbd2-e6f4-4dbb-8f93-dbfdc1253401",
   "metadata": {
    "tags": []
   },
   "outputs": [
    {
     "data": {
      "text/plain": [
       "['Inf',\n",
       " 'Name',\n",
       " 'Apps',\n",
       " 'Best Pos',\n",
       " 'Best Role',\n",
       " 'Best Duty',\n",
       " 'Pros',\n",
       " 'Expires',\n",
       " 'Distance',\n",
       " 'Dist/90',\n",
       " 'Cons',\n",
       " 'Position',\n",
       " 'Club',\n",
       " 'On Loan From',\n",
       " 'Based',\n",
       " 'Asking Price',\n",
       " 'Salary',\n",
       " 'Nat',\n",
       " '2nd Nat',\n",
       " 'Home Grown Status',\n",
       " 'Height',\n",
       " 'Weight',\n",
       " 'Preferred Foot',\n",
       " 'Personality',\n",
       " 'Media Handling',\n",
       " 'Shot %',\n",
       " 'Pas %',\n",
       " 'OP-Cr %',\n",
       " 'Conv %',\n",
       " 'Hdr %',\n",
       " 'xSv %',\n",
       " 'Sv %',\n",
       " 'Transfer Value',\n",
       " 'decimal_height']"
      ]
     },
     "execution_count": 219,
     "metadata": {},
     "output_type": "execute_result"
    }
   ],
   "source": [
    "EXCLUDE_COLS"
   ]
  },
  {
   "cell_type": "code",
   "execution_count": 220,
   "id": "6dfd48b6-fbca-4ba0-8305-59bd88d40df9",
   "metadata": {
    "tags": []
   },
   "outputs": [],
   "source": [
    "def imperial_to_decimal_height(height: str) -> float:\n",
    "    # Check if the height is a valid string and in the correct format\n",
    "    if isinstance(height, str) and \"'\" in height and '\"' in height:\n",
    "        try:\n",
    "            # Split into feet and inches\n",
    "            feet, inches = height.split(\"'\")\n",
    "            feet = int(feet)\n",
    "            inches = int(inches.replace('\"', ''))\n",
    "        except ValueError:\n",
    "            # Return NaN if the height format is invalid\n",
    "            return np.nan\n",
    "\n",
    "        # Convert to decimal format\n",
    "        return round(feet + inches / 12, 2)\n",
    "    \n",
    "    # Return NaN if the value is not a valid string or doesn't match the format\n",
    "    return np.nan\n"
   ]
  },
  {
   "cell_type": "code",
   "execution_count": 221,
   "id": "259b9434-4192-401e-9894-7b52c1a4e70c",
   "metadata": {
    "tags": []
   },
   "outputs": [],
   "source": [
    "def weight_to_decimal_weight(weight: str) -> float:\n",
    "    # Check if the height is a valid string and in the correct format\n",
    "    if isinstance(weight, str) and \"lbs\" in weight:\n",
    "        try:\n",
    "            # Split into feet and inches\n",
    "            weight, lbs_str = weight.split(\" \")\n",
    "            weight = int(weight)\n",
    "        except ValueError:\n",
    "            # Return NaN if the height format is invalid\n",
    "            return np.nan\n",
    "\n",
    "        # Convert to decimal format\n",
    "        return round(weight)\n",
    "    \n",
    "    # Return NaN if the value is not a valid string or doesn't match the format\n",
    "    return np.nan\n"
   ]
  },
  {
   "cell_type": "code",
   "execution_count": 222,
   "id": "664873e6-4e28-4d49-830f-d22313d3ae7a",
   "metadata": {
    "tags": []
   },
   "outputs": [],
   "source": [
    "def convert_percent_string_to_decimal(row, col):\n",
    "    percent_string = row[col]\n",
    "    try:\n",
    "        percent_string = percent_string.split(\"%\")[0]\n",
    "        percent_int = int(percent_string)\n",
    "        percent_value = percent_int / 100\n",
    "        return percent_value\n",
    "    except (ValueError, TypeError) as e:\n",
    "        print(f\"Error processing result for row {row[col]}: {e}\")\n",
    "        return None\n",
    "\n",
    "# scouting_df['Conv %'] = scouting_df.apply(lambda row: convert_percent_string_to_decimal(row, 'Conv %'), axis=1)\n",
    "    "
   ]
  },
  {
   "cell_type": "code",
   "execution_count": 223,
   "id": "4bc1a993-0fc8-4c0b-876f-8418cd6ee1d0",
   "metadata": {
    "tags": []
   },
   "outputs": [],
   "source": [
    "# Define a function that attempts to convert a column to numeric\n",
    "def convert_to_numeric(df, column):\n",
    "    try:\n",
    "        # Convert to numeric\n",
    "        df[column.name] = pd.to_numeric(column.str.replace(',',''), errors='coerce')  # Convert non-numeric to NaN\n",
    "        # df[column] = pd.to_numeric(df[column].str.replace(',', ''), errors='coerce')  # Convert non-numeric to NaN\n",
    "        print(f\"Converted {column.name} to numeric\")\n",
    "    except Exception as e:\n",
    "        print(f\"Error processing {column.name}: {e}\")\n",
    "        \n",
    "# club_info_data.dtypes\n",
    "# convert_to_numeric(club_info_data, club_info_data['estimated_value'])"
   ]
  },
  {
   "cell_type": "code",
   "execution_count": 224,
   "id": "4573323d-1cf2-49e9-a6b3-8fa34d1c5aff",
   "metadata": {},
   "outputs": [],
   "source": [
    "def determine_goal_differential(row, flag='for'):\n",
    "    initial_result = row['result']\n",
    "    # print(f\"Type of row['result']: {type(row['result'])}\")\n",
    "    # print(f\"Result: {initial_result}\")\n",
    "    try:\n",
    "        home, away = initial_result.strip(\" \").split(\"-\")\n",
    "        home = int(home)\n",
    "        away = int(away)\n",
    "\n",
    "#         print(f\"Home: {home} Away: {away}\")\n",
    "#         print(f\"Venue: {row['venue']}\")\n",
    "        \n",
    "        score_map = {'home': { 'for': home, 'against': away },\n",
    "                     'away': { 'for': away, 'against': home }}\n",
    "\n",
    "        return score_map[row['venue']][flag]\n",
    "    except (ValueError, TypeError) as e:\n",
    "        print(f\"Error processing result for row {row['index']}: {e}\")\n",
    "        return None \n",
    "    \n",
    "\n",
    "# match_df['gf'] = match_df.apply(lambda row: determine_goal_differential(row, flag='for'), axis=1)"
   ]
  },
  {
   "cell_type": "code",
   "execution_count": 225,
   "id": "768c37d5-99d1-4a89-8385-97def2d1b8bf",
   "metadata": {
    "tags": []
   },
   "outputs": [],
   "source": [
    "def determine_expires_date(row):\n",
    "    initial_date = row['Expires']\n",
    "    try:\n",
    "        return datetime.strptime(initial_date, \"%m/%d/%Y\")\n",
    "    except:\n",
    "        return None\n",
    "    \n",
    "# lambda x: datetime.strptime(x, \"%m/%d/%Y\")"
   ]
  },
  {
   "cell_type": "code",
   "execution_count": 226,
   "id": "e0d3ddfd-99f8-4a44-bb59-ce7ddc78abc7",
   "metadata": {
    "tags": []
   },
   "outputs": [
    {
     "data": {
      "text/plain": [
       "Inf          object\n",
       "Name         object\n",
       "UID          object\n",
       "Best Pos     object\n",
       "Best Role    object\n",
       "              ...  \n",
       "Ant          object\n",
       "Agi          object\n",
       "Agg          object\n",
       "Aer          object\n",
       "Acc          object\n",
       "Length: 203, dtype: object"
      ]
     },
     "execution_count": 226,
     "metadata": {},
     "output_type": "execute_result"
    }
   ],
   "source": [
    "# scouting_data['Height'].head()\n",
    "# print(f\"Starting {len(scouting_data)}\")\n",
    "# scouting_data.dropna()\n",
    "# print(f\"Ending {len(scouting_data)}\")\n",
    "\n",
    "scouting_data.dtypes"
   ]
  },
  {
   "cell_type": "code",
   "execution_count": 227,
   "id": "a1765bf3-33f0-4260-b999-3d9882ffe6ae",
   "metadata": {
    "tags": []
   },
   "outputs": [],
   "source": [
    "# Defragmentation routine\n",
    "scouting_data = scouting_data.copy()\n",
    "# Convert text height to decimal height\n",
    "scouting_data['decimal_height'] = scouting_data['Height'].apply(imperial_to_decimal_height)\n",
    "\n",
    "# Convert weight similarly \n",
    "scouting_data['decimal_weight'] = scouting_data['Weight'].apply(weight_to_decimal_weight)"
   ]
  },
  {
   "cell_type": "code",
   "execution_count": 228,
   "id": "efe50dbe-ce83-48b7-8f79-f082b287a46e",
   "metadata": {
    "tags": []
   },
   "outputs": [
    {
     "data": {
      "text/plain": [
       "0        NaN\n",
       "1      154.0\n",
       "2      132.0\n",
       "3      127.0\n",
       "4      167.0\n",
       "       ...  \n",
       "252    178.0\n",
       "253    154.0\n",
       "254    145.0\n",
       "255    134.0\n",
       "256    134.0\n",
       "Name: decimal_weight, Length: 257, dtype: float64"
      ]
     },
     "execution_count": 228,
     "metadata": {},
     "output_type": "execute_result"
    }
   ],
   "source": [
    "scouting_data['decimal_weight']"
   ]
  },
  {
   "cell_type": "code",
   "execution_count": 229,
   "id": "88daa054-5504-48a9-a56e-a57ccdc6244b",
   "metadata": {
    "tags": []
   },
   "outputs": [],
   "source": [
    "#scouting_data['decimal_height'].dtype\n",
    "# scouting_data['Name'].dtype == object"
   ]
  },
  {
   "cell_type": "markdown",
   "id": "73bf61c1-33fc-4394-bc9d-d5f7625f5611",
   "metadata": {},
   "source": [
    "Try to convert all cols not in our `EXCLUDE_COLS` to numeric. "
   ]
  },
  {
   "cell_type": "code",
   "execution_count": 230,
   "id": "f418c54b-89d1-4f16-8bfd-7a92426eb387",
   "metadata": {
    "tags": []
   },
   "outputs": [
    {
     "name": "stdout",
     "output_type": "stream",
     "text": [
      "Processing UID\n",
      "Converted UID to numeric\n",
      "Processing Age\n",
      "Converted Age to numeric\n",
      "Processing Starts\n",
      "Converted Starts to numeric\n",
      "Processing Mins\n",
      "Converted Mins to numeric\n",
      "Processing Mins/Gm\n",
      "Converted Mins/Gm to numeric\n",
      "Processing Av Rat\n",
      "Converted Av Rat to numeric\n",
      "Processing Yth Gls\n",
      "Converted Yth Gls to numeric\n",
      "Processing Yth Apps\n",
      "Converted Yth Apps to numeric\n",
      "Processing Gls\n",
      "Converted Gls to numeric\n",
      "Processing Gls/90\n",
      "Converted Gls/90 to numeric\n",
      "Processing Shots\n",
      "Converted Shots to numeric\n",
      "Processing ShT\n",
      "Converted ShT to numeric\n",
      "Processing Shot/90\n",
      "Converted Shot/90 to numeric\n",
      "Processing ShT/90\n",
      "Converted ShT/90 to numeric\n",
      "Processing Pens\n",
      "Converted Pens to numeric\n",
      "Processing Pens S\n",
      "Converted Pens S to numeric\n",
      "Processing Pen/R\n",
      "Converted Pen/R to numeric\n",
      "Processing Off\n",
      "Converted Off to numeric\n",
      "Processing xG\n",
      "Converted xG to numeric\n",
      "Processing CCC\n",
      "Converted CCC to numeric\n",
      "Processing Ch C/90\n",
      "Converted Ch C/90 to numeric\n",
      "Processing Ast\n",
      "Converted Ast to numeric\n",
      "Processing Asts/90\n",
      "Converted Asts/90 to numeric\n",
      "Processing K Pas\n",
      "Converted K Pas to numeric\n",
      "Processing K Ps/90\n",
      "Converted K Ps/90 to numeric\n",
      "Processing Pas A\n",
      "Converted Pas A to numeric\n",
      "Processing Ps A/90\n",
      "Converted Ps A/90 to numeric\n",
      "Processing Ps C\n",
      "Converted Ps C to numeric\n",
      "Processing Ps C/90\n",
      "Converted Ps C/90 to numeric\n",
      "Processing Cr A\n",
      "Converted Cr A to numeric\n",
      "Processing Cr C\n",
      "Converted Cr C to numeric\n",
      "Processing Cr C/A\n",
      "Converted Cr C/A to numeric\n",
      "Processing Drb\n",
      "Converted Drb to numeric\n",
      "Processing Goals Outside Box\n",
      "Converted Goals Outside Box to numeric\n",
      "Processing FK Shots\n",
      "Converted FK Shots to numeric\n",
      "Processing Tck A\n",
      "Converted Tck A to numeric\n",
      "Processing Shots Outside Box/90\n",
      "Converted Shots Outside Box/90 to numeric\n",
      "Processing Shts Blckd/90\n",
      "Converted Shts Blckd/90 to numeric\n",
      "Processing Shts Blckd\n",
      "Converted Shts Blckd to numeric\n",
      "Processing Pr passes/90\n",
      "Converted Pr passes/90 to numeric\n",
      "Processing Pr Passes\n",
      "Converted Pr Passes to numeric\n",
      "Processing Pres C/90\n",
      "Converted Pres C/90 to numeric\n",
      "Processing Pres C\n",
      "Converted Pres C to numeric\n",
      "Processing Pres A/90\n",
      "Converted Pres A/90 to numeric\n",
      "Processing Pres A\n",
      "Converted Pres A to numeric\n",
      "Processing Poss Won/90\n",
      "Converted Poss Won/90 to numeric\n",
      "Processing Poss Lost/90\n",
      "Converted Poss Lost/90 to numeric\n",
      "Processing OP-KP/90\n",
      "Converted OP-KP/90 to numeric\n",
      "Processing OP-KP\n",
      "Converted OP-KP to numeric\n",
      "Processing OP-Crs C/90\n",
      "Converted OP-Crs C/90 to numeric\n",
      "Processing OP-Crs C\n",
      "Converted OP-Crs C to numeric\n",
      "Processing OP-Crs A/90\n",
      "Converted OP-Crs A/90 to numeric\n",
      "Processing OP-Crs A\n",
      "Converted OP-Crs A to numeric\n",
      "Processing Gl Mst\n",
      "Converted Gl Mst to numeric\n",
      "Processing Hdrs L/90\n",
      "Converted Hdrs L/90 to numeric\n",
      "Processing K Tck/90\n",
      "Converted K Tck/90 to numeric\n",
      "Processing K Hdrs/90\n",
      "Converted K Hdrs/90 to numeric\n",
      "Processing Sprints/90\n",
      "Converted Sprints/90 to numeric\n",
      "Processing xGP/90\n",
      "Converted xGP/90 to numeric\n",
      "Processing Blk\n",
      "Converted Blk to numeric\n",
      "Processing xG/shot\n",
      "Converted xG/shot to numeric\n",
      "Processing xGP\n",
      "Converted xGP to numeric\n",
      "Processing Clr/90\n",
      "Converted Clr/90 to numeric\n",
      "Processing Blk/90\n",
      "Converted Blk/90 to numeric\n",
      "Processing Crs A/90\n",
      "Converted Crs A/90 to numeric\n",
      "Processing Cr C/90\n",
      "Converted Cr C/90 to numeric\n",
      "Processing Drb/90\n",
      "Converted Drb/90 to numeric\n",
      "Processing FA\n",
      "Converted FA to numeric\n",
      "Processing Hdrs A\n",
      "Converted Hdrs A to numeric\n",
      "Processing Aer A/90\n",
      "Converted Aer A/90 to numeric\n",
      "Processing Hdrs\n",
      "Converted Hdrs to numeric\n",
      "Processing Hdrs W/90\n",
      "Converted Hdrs W/90 to numeric\n",
      "Processing K Tck\n",
      "Converted K Tck to numeric\n",
      "Processing Tck W\n",
      "Converted Tck W to numeric\n",
      "Processing Tck/90\n",
      "Converted Tck/90 to numeric\n",
      "Processing Tck R\n",
      "Converted Tck R to numeric\n",
      "Processing Fls\n",
      "Converted Fls to numeric\n",
      "Processing Yel\n",
      "Converted Yel to numeric\n",
      "Processing Red\n",
      "Converted Red to numeric\n",
      "Processing Itc\n",
      "Converted Itc to numeric\n",
      "Processing Int/90\n",
      "Converted Int/90 to numeric\n",
      "Processing Clear\n",
      "Converted Clear to numeric\n",
      "Processing Conc\n",
      "Converted Conc to numeric\n",
      "Processing All/90\n",
      "Converted All/90 to numeric\n",
      "Processing Shutouts\n",
      "Converted Shutouts to numeric\n",
      "Processing Svh\n",
      "Converted Svh to numeric\n",
      "Processing Svt\n",
      "Converted Svt to numeric\n",
      "Processing Svp\n",
      "Converted Svp to numeric\n",
      "Processing Pens Faced\n",
      "Converted Pens Faced to numeric\n",
      "Processing Pens Saved\n",
      "Converted Pens Saved to numeric\n",
      "Processing Pens Saved Ratio\n",
      "Converted Pens Saved Ratio to numeric\n",
      "Processing PoM\n",
      "Converted PoM to numeric\n",
      "Processing AT Apps\n",
      "Converted AT Apps to numeric\n",
      "Processing Saves/90\n",
      "Converted Saves/90 to numeric\n",
      "Processing Tgls/90\n",
      "Converted Tgls/90 to numeric\n",
      "Processing Tcon/90\n",
      "Converted Tcon/90 to numeric\n",
      "Processing Tall\n",
      "Converted Tall to numeric\n",
      "Processing Tgls\n",
      "Converted Tgls to numeric\n",
      "Processing Pts/Gm\n",
      "Converted Pts/Gm to numeric\n",
      "Processing NP-xG/90\n",
      "Converted NP-xG/90 to numeric\n",
      "Processing NP-xG\n",
      "Converted NP-xG to numeric\n",
      "Processing Last Gl\n",
      "Converted Last Gl to numeric\n",
      "Processing Last C\n",
      "Converted Last C to numeric\n",
      "Processing Last 5 Games\n",
      "Converted Last 5 Games to numeric\n",
      "Processing Last 5 FT Games\n",
      "Converted Last 5 FT Games to numeric\n",
      "Processing Int Conc\n",
      "Converted Int Conc to numeric\n",
      "Processing Int Av Rat\n",
      "Converted Int Av Rat to numeric\n",
      "Processing Int Ast\n",
      "Converted Int Ast to numeric\n",
      "Processing Int Apps\n",
      "Converted Int Apps to numeric\n",
      "Processing Won\n",
      "Converted Won to numeric\n",
      "Processing G. Mis\n",
      "Converted G. Mis to numeric\n",
      "Processing Lost\n",
      "Converted Lost to numeric\n",
      "Processing D\n",
      "Converted D to numeric\n",
      "Processing Gwin\n",
      "Converted Gwin to numeric\n",
      "Processing xG/90\n",
      "Converted xG/90 to numeric\n",
      "Processing xG-OP\n",
      "Converted xG-OP to numeric\n",
      "Processing xA/90\n",
      "Converted xA/90 to numeric\n",
      "Processing xA\n",
      "Converted xA to numeric\n",
      "Processing Cln/90\n",
      "Converted Cln/90 to numeric\n",
      "Processing Mins/Gl\n",
      "Converted Mins/Gl to numeric\n",
      "Processing AT Lge Gls\n",
      "Converted AT Lge Gls to numeric\n",
      "Processing AT Lge Apps\n",
      "Converted AT Lge Apps to numeric\n",
      "Processing AT Gls\n",
      "Converted AT Gls to numeric\n",
      "Processing Wor\n",
      "Converted Wor to numeric\n",
      "Processing Vis\n",
      "Converted Vis to numeric\n",
      "Processing Thr\n",
      "Converted Thr to numeric\n",
      "Processing Tec\n",
      "Converted Tec to numeric\n",
      "Processing Tea\n",
      "Converted Tea to numeric\n",
      "Processing Tck\n",
      "Converted Tck to numeric\n",
      "Processing Str\n",
      "Converted Str to numeric\n",
      "Processing Sta\n",
      "Converted Sta to numeric\n",
      "Processing TRO\n",
      "Converted TRO to numeric\n",
      "Processing Ref\n",
      "Converted Ref to numeric\n",
      "Processing Pun\n",
      "Converted Pun to numeric\n",
      "Processing Pos\n",
      "Converted Pos to numeric\n",
      "Processing Pen\n",
      "Converted Pen to numeric\n",
      "Processing Pas\n",
      "Converted Pas to numeric\n",
      "Processing Pac\n",
      "Converted Pac to numeric\n",
      "Processing 1v1\n",
      "Converted 1v1 to numeric\n",
      "Processing OtB\n",
      "Converted OtB to numeric\n",
      "Processing Mar\n",
      "Converted Mar to numeric\n",
      "Processing L Th\n",
      "Converted L Th to numeric\n",
      "Processing Lon\n",
      "Converted Lon to numeric\n",
      "Processing Ldr\n",
      "Converted Ldr to numeric\n",
      "Processing Kic\n",
      "Converted Kic to numeric\n",
      "Processing Jum\n",
      "Converted Jum to numeric\n",
      "Processing Hea\n",
      "Converted Hea to numeric\n",
      "Processing Han\n",
      "Converted Han to numeric\n",
      "Processing Fre\n",
      "Converted Fre to numeric\n",
      "Processing Fla\n",
      "Converted Fla to numeric\n",
      "Processing Fir\n",
      "Converted Fir to numeric\n",
      "Processing Fin\n",
      "Converted Fin to numeric\n",
      "Processing Ecc\n",
      "Converted Ecc to numeric\n",
      "Processing Dri\n",
      "Converted Dri to numeric\n",
      "Processing Det\n",
      "Converted Det to numeric\n",
      "Processing Dec\n",
      "Converted Dec to numeric\n",
      "Processing Cro\n",
      "Converted Cro to numeric\n",
      "Processing Cor\n",
      "Converted Cor to numeric\n",
      "Processing Cnt\n",
      "Converted Cnt to numeric\n",
      "Processing Cmp\n",
      "Converted Cmp to numeric\n",
      "Processing Com\n",
      "Converted Com to numeric\n",
      "Processing Cmd\n",
      "Converted Cmd to numeric\n",
      "Processing Bra\n",
      "Converted Bra to numeric\n",
      "Processing Bal\n",
      "Converted Bal to numeric\n",
      "Processing Ant\n",
      "Converted Ant to numeric\n",
      "Processing Agi\n",
      "Converted Agi to numeric\n",
      "Processing Agg\n",
      "Converted Agg to numeric\n",
      "Processing Aer\n",
      "Converted Aer to numeric\n",
      "Processing Acc\n",
      "Converted Acc to numeric\n",
      "Processing decimal_weight\n",
      "Error processing decimal_weight: Can only use .str accessor with string values!\n"
     ]
    }
   ],
   "source": [
    "for col in scouting_data.columns:\n",
    "    if col not in EXCLUDE_COLS:\n",
    "        try:\n",
    "            print(f\"Processing {col}\")\n",
    "            convert_to_numeric(scouting_data, scouting_data[col])\n",
    "        except:\n",
    "            pass\n"
   ]
  },
  {
   "cell_type": "code",
   "execution_count": 231,
   "id": "456ec6d6-3f5d-4f7e-9f53-01b170bd5fec",
   "metadata": {
    "tags": []
   },
   "outputs": [
    {
     "name": "stdout",
     "output_type": "stream",
     "text": [
      "  Inf Name  UID Best Pos Best Role Best Duty Pros Cons Position Club  ... Cmd  \\\n",
      "0           NaN                                                       ... NaN   \n",
      "\n",
      "  Bra Bal Ant Agi Agg Aer Acc decimal_height decimal_weight  \n",
      "0 NaN NaN NaN NaN NaN NaN NaN            NaN            NaN  \n",
      "\n",
      "[1 rows x 205 columns]\n"
     ]
    }
   ],
   "source": [
    "# Check for NaN values in the 'UID' column\n",
    "nan_rows = scouting_data[scouting_data['UID'].isna()]\n",
    "\n",
    "# Display the rows with NaN values\n",
    "print(nan_rows)\n"
   ]
  },
  {
   "cell_type": "code",
   "execution_count": 232,
   "id": "e9421912-0556-44e0-83ef-dfae79967ed3",
   "metadata": {
    "tags": []
   },
   "outputs": [],
   "source": [
    "# Drop the NAN row totally\n",
    "scouting_data = scouting_data.dropna(subset=['UID'])\n"
   ]
  },
  {
   "cell_type": "code",
   "execution_count": 233,
   "id": "c41d42af-6fda-4586-82f2-6b27f6a5c2ea",
   "metadata": {
    "tags": []
   },
   "outputs": [],
   "source": [
    "# We want to make the UID numeric. We must clean the NaN above to resolve.\n",
    "# Replace empty strings with NaN values\n",
    "scouting_data['UID'] = scouting_data['UID'].replace('', np.nan)\n",
    "\n",
    "# Set UID to large int\n",
    "scouting_data['UID'] = scouting_data['UID'].astype('uint64') \n",
    "\n",
    "#scouting_data['UID'].max()"
   ]
  },
  {
   "cell_type": "code",
   "execution_count": 234,
   "id": "9430dfa1-985e-4939-b149-03cfc68b0524",
   "metadata": {
    "tags": []
   },
   "outputs": [
    {
     "data": {
      "text/plain": [
       "1      7/31/2026\n",
       "2      7/31/2027\n",
       "3      7/31/2026\n",
       "4      6/30/2026\n",
       "5      6/30/2027\n",
       "         ...    \n",
       "252            -\n",
       "253    7/31/2026\n",
       "254    7/31/2026\n",
       "255    7/31/2027\n",
       "256            -\n",
       "Name: Expires, Length: 256, dtype: object"
      ]
     },
     "execution_count": 234,
     "metadata": {},
     "output_type": "execute_result"
    }
   ],
   "source": [
    "scouting_data['Expires']"
   ]
  },
  {
   "cell_type": "code",
   "execution_count": 235,
   "id": "a464a9d1-1af2-4568-8686-a94852796446",
   "metadata": {
    "tags": []
   },
   "outputs": [],
   "source": [
    "#scouting_data['Best Duty'].unique()"
   ]
  },
  {
   "cell_type": "code",
   "execution_count": 236,
   "id": "9b617bb6-04a6-492e-bc72-3b51a053d8aa",
   "metadata": {
    "tags": []
   },
   "outputs": [
    {
     "data": {
      "text/plain": [
       "1     2026-07-31\n",
       "2     2027-07-31\n",
       "3     2026-07-31\n",
       "4     2026-06-30\n",
       "5     2027-06-30\n",
       "         ...    \n",
       "252          NaT\n",
       "253   2026-07-31\n",
       "254   2026-07-31\n",
       "255   2027-07-31\n",
       "256          NaT\n",
       "Name: Expires, Length: 256, dtype: datetime64[ns]"
      ]
     },
     "execution_count": 236,
     "metadata": {},
     "output_type": "execute_result"
    }
   ],
   "source": [
    "# Convert Expires to datetime\n",
    "# scouting_data['Expires']\n",
    "# scouting_data['Salary']\n",
    "# scouting_data['Dist/90']\n",
    "# match_df['date'] = match_df['date'].apply(lambda x: datetime.strptime(x, \"%a, %m/%d/%Y\"))\n",
    "\n",
    "# Replace \"-\" in 'Expires' column with NaN or something\n",
    "# Replace empty strings with NaN values\n",
    "# scouting_data['Expires'] = scouting_data['Expires'].replace(np.nan, '')\n",
    "# scouting_data['Expires'] = scouting_data['Expires'].apply(lambda x: datetime.strptime(x, \"%m/%d/%Y\"))\n",
    "# scouting_data['Expires']\n",
    "\n",
    "scouting_data['Expires'] = scouting_data.apply(lambda row: determine_expires_date(row), axis=1)\n",
    "scouting_data['Expires']\n"
   ]
  },
  {
   "cell_type": "code",
   "execution_count": 237,
   "id": "aeca9836-e764-4b17-9fc1-f6488912fe0a",
   "metadata": {
    "tags": []
   },
   "outputs": [
    {
     "data": {
      "text/plain": [
       "1          -\n",
       "2      0.0mi\n",
       "3          -\n",
       "4      0.0mi\n",
       "5      0.0mi\n",
       "       ...  \n",
       "252        -\n",
       "253        -\n",
       "254        -\n",
       "255        -\n",
       "256    0.0mi\n",
       "Name: Dist/90, Length: 256, dtype: object"
      ]
     },
     "execution_count": 237,
     "metadata": {},
     "output_type": "execute_result"
    }
   ],
   "source": [
    "scouting_data['Dist/90']"
   ]
  },
  {
   "cell_type": "code",
   "execution_count": 238,
   "id": "60092811-bfc6-498e-9d11-f6422562ea9e",
   "metadata": {
    "tags": []
   },
   "outputs": [
    {
     "data": {
      "text/plain": [
       "array(['-', '0.0mi'], dtype=object)"
      ]
     },
     "execution_count": 238,
     "metadata": {},
     "output_type": "execute_result"
    }
   ],
   "source": [
    "scouting_data['Dist/90'].unique()"
   ]
  },
  {
   "cell_type": "code",
   "execution_count": 171,
   "id": "0c307d0d-2ef9-434c-a38e-47a821616664",
   "metadata": {
    "tags": []
   },
   "outputs": [
    {
     "name": "stdout",
     "output_type": "stream",
     "text": [
      "Converted Dist/90 to numeric\n",
      "Converted Distance to numeric\n"
     ]
    }
   ],
   "source": [
    "# Remove any \"mi\" chars in all distance cols\n",
    "# First convert to strings\n",
    "scouting_data['Dist/90'] = scouting_data['Dist/90'].astype(str)\n",
    "scouting_data['Distance'] = scouting_data['Distance'].astype(str)\n",
    "\n",
    "# Then replace part of the string we wart removed \"mi\" --> \"\"\n",
    "scouting_data['Dist/90'] = scouting_data['Dist/90'].str.replace('mi', '')\n",
    "scouting_data['Distance'] = scouting_data['Distance'].str.replace('mi', '')\n",
    "\n",
    "# Then coerce into numeric.\n",
    "convert_to_numeric(scouting_data, scouting_data['Dist/90'])\n",
    "convert_to_numeric(scouting_data, scouting_data['Distance'])\n"
   ]
  },
  {
   "cell_type": "code",
   "execution_count": 175,
   "id": "2da528af-482d-499d-8301-9354f0856930",
   "metadata": {
    "tags": []
   },
   "outputs": [
    {
     "data": {
      "text/plain": [
       "1       NaN\n",
       "2      33.6\n",
       "3       NaN\n",
       "4      53.4\n",
       "5      47.8\n",
       "       ... \n",
       "252     NaN\n",
       "253     NaN\n",
       "254     NaN\n",
       "255     NaN\n",
       "256     6.0\n",
       "Name: Distance, Length: 256, dtype: float64"
      ]
     },
     "execution_count": 175,
     "metadata": {},
     "output_type": "execute_result"
    }
   ],
   "source": [
    "scouting_data['Distance']"
   ]
  },
  {
   "cell_type": "code",
   "execution_count": 184,
   "id": "c4fda068-2410-4f7c-8300-3fff49f034e2",
   "metadata": {
    "tags": []
   },
   "outputs": [
    {
     "data": {
      "text/plain": [
       "1       NaN\n",
       "2      33.6\n",
       "3       NaN\n",
       "4      53.4\n",
       "5      47.8\n",
       "       ... \n",
       "252     NaN\n",
       "253     NaN\n",
       "254     NaN\n",
       "255     NaN\n",
       "256     6.0\n",
       "Name: Distance, Length: 256, dtype: float64"
      ]
     },
     "execution_count": 184,
     "metadata": {},
     "output_type": "execute_result"
    }
   ],
   "source": [
    "scouting_data['Distance']"
   ]
  },
  {
   "cell_type": "code",
   "execution_count": 182,
   "id": "59f9ebee-2464-4bd9-a934-54cdadc0d638",
   "metadata": {
    "tags": []
   },
   "outputs": [
    {
     "data": {
      "text/plain": [
       "array([ nan, 33.6, 53.4, 47.8, 16.7,  0. , 61.1, 27.7, 32.7, 29.5, 14.4,\n",
       "        5.8, 23.7, 14.8,  1.9,  6.6, 14.2,  2.4,  6.9,  9.9,  1.4, 24.4,\n",
       "       59.8, 28.8, 13.1, 12.5, 17.8, 19.4, 13.4, 19. , 14. , 12.9, 65.2,\n",
       "       19.8, 15.7,  2.3,  2.5,  9.5, 22.8,  5.4,  0.2, 24. , 29.8, 15.1,\n",
       "        9.6, 15.5, 27.3, 17.1, 33.9,  6.8,  0.5, 13.7, 15.6,  7.6,  1.1,\n",
       "        8.2,  6.3,  5.9,  3.5,  7.2,  7.3,  5.7, 40.8, 46.2,  5. ,  2.6,\n",
       "       31.4,  4.7,  4.3, 38.1,  3.8,  8.1, 15.8, 33.8,  7. ,  7.9, 10.1,\n",
       "       11.3, 16.5, 21.4, 39.1, 20.5, 10. , 24.1,  2.2,  9.7, 18.5, 14.9,\n",
       "       15.2,  2. , 47. , 52.2,  0.4, 11.1, 16. ,  1.2,  1.3,  3.6, 12.1,\n",
       "        0.7, 12.6, 11.8,  3.4, 28.1,  6. ])"
      ]
     },
     "execution_count": 182,
     "metadata": {},
     "output_type": "execute_result"
    }
   ],
   "source": [
    "scouting_data['Distance'].unique()"
   ]
  },
  {
   "cell_type": "code",
   "execution_count": 204,
   "id": "274be9b8-9423-4c7c-8d8c-c0f96d641d2f",
   "metadata": {
    "tags": []
   },
   "outputs": [
    {
     "name": "stdout",
     "output_type": "stream",
     "text": [
      "Shot %\n",
      "Pas %\n",
      "OP-Cr %\n",
      "Conv %\n",
      "Hdr %\n",
      "xSv %\n",
      "Sv %\n"
     ]
    },
    {
     "data": {
      "text/plain": [
       "['Shot %', 'Pas %', 'OP-Cr %', 'Conv %', 'Hdr %', 'xSv %', 'Sv %']"
      ]
     },
     "execution_count": 204,
     "metadata": {},
     "output_type": "execute_result"
    }
   ],
   "source": [
    "# Convert all '%' cols to numeric\n",
    "percent_cols = []\n",
    "for col in scouting_data.columns:\n",
    "    if re.search('%', col):\n",
    "        print(col)\n",
    "        percent_cols.append(col)\n",
    "    # if re.match('%', col):\n",
    "    #     print(f\"Col {col}\")\n",
    "percent_cols\n",
    "# foo = scouting_data.apply(lambda row: convert_percent_string_to_decimal(row, 'Conv %'), axis=1)"
   ]
  },
  {
   "cell_type": "code",
   "execution_count": null,
   "id": "eb525fa2-2b5a-4dd9-97fe-8f0a108c0d12",
   "metadata": {
    "tags": []
   },
   "outputs": [],
   "source": [
    "# Iterate over all the percentage columns and change to a decimal value\n",
    "for col in percent_cols:\n",
    "    scouting_data[col] = scouting_data.apply(lambda row: convert_percent_string_to_decimal(row, col), axis=1)\n"
   ]
  },
  {
   "cell_type": "code",
   "execution_count": 206,
   "id": "bafb4060-b218-4801-aa20-f47b0591a25e",
   "metadata": {
    "tags": []
   },
   "outputs": [
    {
     "data": {
      "text/plain": [
       "1       NaN\n",
       "2      0.38\n",
       "3       NaN\n",
       "4      0.29\n",
       "5      0.00\n",
       "       ... \n",
       "252     NaN\n",
       "253     NaN\n",
       "254     NaN\n",
       "255     NaN\n",
       "256     NaN\n",
       "Name: Shot %, Length: 256, dtype: float64"
      ]
     },
     "execution_count": 206,
     "metadata": {},
     "output_type": "execute_result"
    }
   ],
   "source": [
    "scouting_data['Shot %']"
   ]
  },
  {
   "cell_type": "code",
   "execution_count": 208,
   "id": "3da28d7a-b0be-45a2-902d-9337790302be",
   "metadata": {
    "tags": []
   },
   "outputs": [
    {
     "data": {
      "text/plain": [
       "1      NaN\n",
       "2      0.0\n",
       "3      NaN\n",
       "4      0.0\n",
       "5      0.0\n",
       "      ... \n",
       "252    NaN\n",
       "253    NaN\n",
       "254    NaN\n",
       "255    NaN\n",
       "256    0.0\n",
       "Name: Dist/90, Length: 256, dtype: float64"
      ]
     },
     "execution_count": 208,
     "metadata": {},
     "output_type": "execute_result"
    }
   ],
   "source": [
    "scouting_data['Dist/90']"
   ]
  },
  {
   "cell_type": "code",
   "execution_count": 207,
   "id": "f75b0a9e-97fd-4ee9-b238-86413b316e22",
   "metadata": {
    "tags": []
   },
   "outputs": [],
   "source": [
    "# Needs openpyxl\n",
    "# scouting_data.to_excel('data.xlsx', index=False)\n",
    "scouting_data.to_csv('data.csv', index=False) "
   ]
  },
  {
   "cell_type": "code",
   "execution_count": 61,
   "id": "2816e39f-fc17-4a8d-a226-df34df5da183",
   "metadata": {
    "tags": []
   },
   "outputs": [
    {
     "data": {
      "text/plain": [
       "0                      \n",
       "1           Martial Tia\n",
       "2        Ibrahim Sulley\n",
       "3         Mohamed Hamdy\n",
       "4          George Ayine\n",
       "             ...       \n",
       "252     Sylvain Gbohouo\n",
       "253     Moustapha Fanne\n",
       "254        Mukhtar Moro\n",
       "255    Derrick Fordjour\n",
       "256     Haschou Kerrido\n",
       "Name: Name, Length: 257, dtype: object"
      ]
     },
     "execution_count": 61,
     "metadata": {},
     "output_type": "execute_result"
    }
   ],
   "source": [
    "# Convert the excluded columns to text\n",
    "for col in EXCLUDE_COLS:\n",
    "    \n",
    "\n",
    "name_col = scouting_data['Name']\n",
    "# Convert 'col1' to string\n",
    "# df['col1'] = df['col1'].astype(str)\n",
    "name_col.astype(str)"
   ]
  }
 ],
 "metadata": {
  "kernelspec": {
   "display_name": "Python 3 (ipykernel)",
   "language": "python",
   "name": "python3"
  },
  "language_info": {
   "codemirror_mode": {
    "name": "ipython",
    "version": 3
   },
   "file_extension": ".py",
   "mimetype": "text/x-python",
   "name": "python",
   "nbconvert_exporter": "python",
   "pygments_lexer": "ipython3",
   "version": "3.9.18"
  }
 },
 "nbformat": 4,
 "nbformat_minor": 5
}
