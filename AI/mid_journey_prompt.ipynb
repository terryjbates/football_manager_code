{
 "cells": [
  {
   "cell_type": "code",
   "execution_count": 8,
   "id": "079a5bd1-1068-46a0-82a0-913890576317",
   "metadata": {},
   "outputs": [],
   "source": [
    "from bs4 import BeautifulSoup\n",
    "import pandas as pd\n",
    "import re\n",
    "import country_converter as coco\n",
    "cc = coco.CountryConverter()"
   ]
  },
  {
   "cell_type": "code",
   "execution_count": 2,
   "id": "3bda7ced-b29d-441a-8305-ea5402db764f",
   "metadata": {},
   "outputs": [],
   "source": [
    "# Read the HTML file\n",
    "with open('./file.html', 'r') as file:\n",
    "    html_str = file.read()"
   ]
  },
  {
   "cell_type": "code",
   "execution_count": 3,
   "id": "a23c9e41-2561-4353-a5a7-09b62c86fbc9",
   "metadata": {},
   "outputs": [],
   "source": [
    "# Parse the HTML string with BeautifulSoup\n",
    "soup = BeautifulSoup(html_str, 'html.parser')\n",
    "\n",
    "# Find the table in the HTML\n",
    "table = soup.find('table')"
   ]
  },
  {
   "cell_type": "code",
   "execution_count": 13,
   "id": "8fa35d70-9222-44f9-a8d9-b555d50f5263",
   "metadata": {},
   "outputs": [
    {
     "data": {
      "text/plain": [
       "'Spain'"
      ]
     },
     "execution_count": 13,
     "metadata": {},
     "output_type": "execute_result"
    }
   ],
   "source": [
    "coco.convert('ESP',to='name_short')"
   ]
  },
  {
   "cell_type": "code",
   "execution_count": 14,
   "id": "6ac83b37-9406-4acb-a8a1-d8c2ee47bcd0",
   "metadata": {},
   "outputs": [
    {
     "name": "stdout",
     "output_type": "stream",
     "text": [
      "Position Selected                 -\n",
      "Inf                             U19\n",
      "Name                  Yeremi Peraza\n",
      "Age                              17\n",
      "Height                         5'7\"\n",
      "Weight                      132 lbs\n",
      "Nat                             ESP\n",
      "NoB                             ESP\n",
      "Birth Region         Western Europe\n",
      "Best Role            Inside Forward\n",
      "Personality             Unambitious\n",
      "Media Description     Young striker\n",
      "Media Handling       Media-friendly\n",
      "Name: 0, dtype: object\n",
      "Footballer named Yeremi Peraza, headshot image facing directly into camera, top of the head to 2 inches below the chin, shot with Canon EOS R3, 17 years old, 5'7\" tall, weighing 132 lbs, born in Spain, of Western Europe descent, a Unambitious personality, Young striker, handles the press with a Media-friendly style, 256 X 256 pixels\n",
      "Position Selected                       -\n",
      "Inf                                   Unr\n",
      "Name                                 Teto\n",
      "Age                                    26\n",
      "Height                               5'9\"\n",
      "Weight                            147 lbs\n",
      "Nat                                   ESP\n",
      "NoB                                   ESP\n",
      "Birth Region               Western Europe\n",
      "Best Role                 Inverted Winger\n",
      "Personality           Fairly Professional\n",
      "Media Description    Attacking midfielder\n",
      "Media Handling               Level-headed\n",
      "Name: 1, dtype: object\n",
      "Footballer named Teto, headshot image facing directly into camera, top of the head to 2 inches below the chin, shot with Canon EOS R3, 26 years old, 5'9\" tall, weighing 147 lbs, born in Spain, of Western Europe descent, a Fairly Professional personality, Attacking midfielder, handles the press with a Level-headed style, 256 X 256 pixels\n"
     ]
    }
   ],
   "source": [
    "# Convert the table into a DataFrame\n",
    "df = pd.read_html(str(table), header=0)[0]\n",
    "\n",
    "# Generate the prompts\n",
    "for index, row in df.iterrows():\n",
    "    print (row)\n",
    "    print(f\"Footballer named {row['Name']}, headshot image facing directly into camera, top of the head to 2 inches below the chin, shot with Canon EOS R3, {row['Age']} years old, {row['Height']} tall, weighing {row['Weight']}, born in {coco.convert(row['NoB'], to='name_short')}, of {row['Birth Region']} descent, a {row['Personality']} personality, {row['Media Description']}, handles the press with a {row['Media Handling']} style, 256 X 256 pixels\")\n"
   ]
  }
 ],
 "metadata": {
  "kernelspec": {
   "display_name": "Python 3 (ipykernel)",
   "language": "python",
   "name": "python3"
  },
  "language_info": {
   "codemirror_mode": {
    "name": "ipython",
    "version": 3
   },
   "file_extension": ".py",
   "mimetype": "text/x-python",
   "name": "python",
   "nbconvert_exporter": "python",
   "pygments_lexer": "ipython3",
   "version": "3.9.16"
  }
 },
 "nbformat": 4,
 "nbformat_minor": 5
}
