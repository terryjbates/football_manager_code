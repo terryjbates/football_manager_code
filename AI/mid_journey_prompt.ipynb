{
 "cells": [
  {
   "cell_type": "code",
   "execution_count": 5,
   "id": "079a5bd1-1068-46a0-82a0-913890576317",
   "metadata": {
    "tags": []
   },
   "outputs": [],
   "source": [
    "from bs4 import BeautifulSoup\n",
    "import os\n",
    "import pandas as pd\n",
    "import re\n",
    "import country_converter as coco\n",
    "cc = coco.CountryConverter()"
   ]
  },
  {
   "cell_type": "code",
   "execution_count": 6,
   "id": "d7570496-635d-4ed6-9bcc-c35ef5177488",
   "metadata": {
    "tags": []
   },
   "outputs": [
    {
     "data": {
      "text/plain": [
       "'C:\\\\Users\\\\lover\\\\OneDrive\\\\Documents\\\\GitHub\\\\football_manager_code\\\\AI'"
      ]
     },
     "execution_count": 6,
     "metadata": {},
     "output_type": "execute_result"
    }
   ],
   "source": [
    "os.getcwd()"
   ]
  },
  {
   "cell_type": "code",
   "execution_count": 7,
   "id": "e0bc4fe1-6cf2-487b-bcba-02286d569d49",
   "metadata": {
    "tags": []
   },
   "outputs": [
    {
     "name": "stdout",
     "output_type": "stream",
     "text": [
      "Defaulting to user installation because normal site-packages is not writeable\n",
      "Requirement already satisfied: country_converter in c:\\users\\lover\\appdata\\roaming\\python\\python39\\site-packages (1.1.1)\n",
      "Requirement already satisfied: bs4 in c:\\users\\lover\\appdata\\roaming\\python\\python39\\site-packages (0.0.1)\n",
      "Requirement already satisfied: pandas>=1.0 in c:\\users\\lover\\appdata\\roaming\\python\\python39\\site-packages (from country_converter) (2.1.2)\n",
      "Requirement already satisfied: beautifulsoup4 in c:\\users\\lover\\appdata\\roaming\\python\\python39\\site-packages (from bs4) (4.11.1)\n",
      "Requirement already satisfied: numpy<2,>=1.22.4 in c:\\programdata\\anaconda3\\envs\\football_manager_dev\\lib\\site-packages (from pandas>=1.0->country_converter) (1.24.3)\n",
      "Requirement already satisfied: python-dateutil>=2.8.2 in c:\\programdata\\anaconda3\\envs\\football_manager_dev\\lib\\site-packages (from pandas>=1.0->country_converter) (2.8.2)\n",
      "Requirement already satisfied: pytz>=2020.1 in c:\\programdata\\anaconda3\\envs\\football_manager_dev\\lib\\site-packages (from pandas>=1.0->country_converter) (2023.3.post1)\n",
      "Requirement already satisfied: tzdata>=2022.1 in c:\\users\\lover\\appdata\\roaming\\python\\python39\\site-packages (from pandas>=1.0->country_converter) (2023.3)\n",
      "Requirement already satisfied: soupsieve>1.2 in c:\\users\\lover\\appdata\\roaming\\python\\python39\\site-packages (from beautifulsoup4->bs4) (2.3.2.post1)\n",
      "Requirement already satisfied: six>=1.5 in c:\\programdata\\anaconda3\\envs\\football_manager_dev\\lib\\site-packages (from python-dateutil>=2.8.2->pandas>=1.0->country_converter) (1.16.0)\n"
     ]
    }
   ],
   "source": [
    "!pip install country_converter bs4 "
   ]
  },
  {
   "cell_type": "code",
   "execution_count": 8,
   "id": "53673a8c-9e5b-4c70-ae74-bae3ab4aaa64",
   "metadata": {
    "tags": []
   },
   "outputs": [],
   "source": [
    "def open_dir(dir_name):\n",
    "    os.chdir(dir_name)\n",
    "    os.getcwd()"
   ]
  },
  {
   "cell_type": "code",
   "execution_count": 9,
   "id": "f6244f9f-6bcd-4cf7-9d6a-11bf9a457450",
   "metadata": {
    "tags": []
   },
   "outputs": [],
   "source": [
    "BASE_PATH = r'C:\\Users\\lover\\OneDrive\\Documents\\GitHub\\football_manager_code\\AI\\\\'\n",
    "\n",
    "open_dir(BASE_PATH)"
   ]
  },
  {
   "cell_type": "code",
   "execution_count": 11,
   "id": "3bda7ced-b29d-441a-8305-ea5402db764f",
   "metadata": {
    "tags": []
   },
   "outputs": [],
   "source": [
    "import codecs\n",
    "# with codecs.open(IMPORT_FILE, 'r', encoding='utf-8', errors='ignore') as f:\n",
    "#     soup = BeautifulSoup(f, 'html.parser')\n",
    "\n",
    "\n",
    "# Read the HTML file\n",
    "with open('./Junior_2031_Feb_Faces.html', 'r', encoding='utf-8', errors='ignore') as file:\n",
    "    html_str = file.read()"
   ]
  },
  {
   "cell_type": "code",
   "execution_count": 12,
   "id": "a23c9e41-2561-4353-a5a7-09b62c86fbc9",
   "metadata": {
    "tags": []
   },
   "outputs": [],
   "source": [
    "# Parse the HTML string with BeautifulSoup\n",
    "soup = BeautifulSoup(html_str, 'html.parser')\n",
    "\n",
    "# Find the table in the HTML\n",
    "table = soup.find('table')"
   ]
  },
  {
   "cell_type": "code",
   "execution_count": 13,
   "id": "8fa35d70-9222-44f9-a8d9-b555d50f5263",
   "metadata": {
    "tags": []
   },
   "outputs": [
    {
     "data": {
      "text/plain": [
       "'Spain'"
      ]
     },
     "execution_count": 13,
     "metadata": {},
     "output_type": "execute_result"
    }
   ],
   "source": [
    "coco.convert('ESP',to='name_short')"
   ]
  },
  {
   "cell_type": "code",
   "execution_count": null,
   "id": "6ac83b37-9406-4acb-a8a1-d8c2ee47bcd0",
   "metadata": {
    "tags": []
   },
   "outputs": [],
   "source": [
    "# Convert the table into a DataFrame\n",
    "df = pd.read_html(str(table), header=0)[0]\n",
    "\n",
    "# Generate the prompts\n",
    "for index, row in df.iterrows():\n",
    "    print (row)\n",
    "    print(f\"Footballer named {row['Name']}, headshot image facing directly into camera, top of the head to 2 inches below the chin, shot with Canon EOS R3, {row['Age']} years old, {row['Height']} tall, weighing {row['Weight']}, born in {coco.convert(row['NoB'], to='name_short')}, of {row['Birth Region']} descent, a {row['Personality']} personality, {row['Media Description']}, handles the press with a {row['Media Handling']} style, 256 X 256 pixels\")\n"
   ]
  }
 ],
 "metadata": {
  "kernelspec": {
   "display_name": "Python 3 (ipykernel)",
   "language": "python",
   "name": "python3"
  },
  "language_info": {
   "codemirror_mode": {
    "name": "ipython",
    "version": 3
   },
   "file_extension": ".py",
   "mimetype": "text/x-python",
   "name": "python",
   "nbconvert_exporter": "python",
   "pygments_lexer": "ipython3",
   "version": "3.9.18"
  }
 },
 "nbformat": 4,
 "nbformat_minor": 5
}
